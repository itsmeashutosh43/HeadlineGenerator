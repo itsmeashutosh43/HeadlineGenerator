{
 "cells": [
  {
   "cell_type": "code",
   "execution_count": 342,
   "metadata": {},
   "outputs": [],
   "source": [
    "import os\n",
    "import stopwords\n",
    "import re\n",
    "import pandas as pd\n",
    "import nltk\n",
    "from nltk import word_tokenize\n",
    "stopwords = open(\"stopwords.txt\").read().splitlines()\n",
    "def loadData(loc):\n",
    "        BASEDIR=os.path.dirname(os.path.realpath('__file__'))\n",
    "        df=pd.read_csv(BASEDIR+loc,names=[\"headline\",\"news\"])\n",
    "        return df\n"
   ]
  },
  {
   "cell_type": "code",
   "execution_count": 343,
   "metadata": {},
   "outputs": [],
   "source": [
    "import numpy as np"
   ]
  },
  {
   "cell_type": "code",
   "execution_count": 344,
   "metadata": {},
   "outputs": [],
   "source": [
    "df=loadData(\"/dataset/onlineKhabar.csv\")\n",
    "REPLACE_BY_SPACE_RE = re.compile('[?!/(){}\\[\\]\\|@,;\\'\\']')"
   ]
  },
  {
   "cell_type": "code",
   "execution_count": 345,
   "metadata": {},
   "outputs": [
    {
     "data": {
      "text/plain": [
       "\"['', 'विश्वको नम्वर वान टेक कम्पनी एप्पलका मुख्य मानिस अर्थात् प्रमुख कार्यकारी अधिकृत (सिइओ)ले पाउने तलब भत्ता चानचुने हुने त कुरै भएन । त्यसैले एप्पलका वर्तमान सिइओ टिम कुकले गत वर्ष सन् २०१५ मा १ अर्ब रुपैयाँ भन्दा बढि वाषिर्क तलबभत्ता बुझेका छन् ।', 'अघिल्लो वर्षको तुलनामा सन् २०१५ मा कुकको तलब भत्तामा ११.५ प्रतिशतले वृद्धि भएको हो । र उनले पछिल्लो एक वर्षमा एप्पलबाट १ करोड ३ लाख डलर रकम बुझेका छन् ।', 'कुकको आधारभुत बेतनमा गत वर्ष १४.४ प्रतिशत अर्थात् २० करोड रुपैयाँले वृद्धि भयो भने नन इक्विटी इन्सेन्टिभमा १९ प्रतिशतले वृद्धि भएर ८० करोड रुपैयाँ पुगेको छ ।', 'सायद यतिधेरै तलब भत्ता थाप्ने कुक एप्पलको एकमात्र कर्मचारी होलान् र अन्य कर्मचारीको तलब उनको भन्दा निकै कम होला भन्ने सोँच्नुहोला । तर अचम्मको कुरा के छ भने एप्पलका उच्च पदस्थ कार्यकारीहरुमध्ये कुकले पाएको तलब भत्ता सबैभन्दा कम हो ।', 'कम्पनीका प्रमुख वित्तिय अधिकृत लूकाको वाषिर्क तलबमा ८१ प्रतिशतले वृद्धि भएको छ र उनले गत वर्ष अढाइ अर्ब रुपैयाँ भन्दा बढि तलब भत्ता बुझेका छन् । रिटेल एण्ड अनलाइन स्टोरका वरिष्ठ उपाध्यक्ष एन्जेला गत वर्ष एप्पलमा सबैभन्दा बढि तलब भत्ता बुझ्ने कर्मचारी हुन् । उनले गत वर्ष उनले २ अर्ब ६० करोड रुपैयाँ भन्दा बढि तलब भत्ता बुझेकी छिन् ।', 'गत वर्ष सन् २०१५ मा एप्पललको बिक्रि २८ प्रतिशतले बढ्यो भने मुनाफा ३५ प्रतिशतले बढेको बताइएको छ । तर सन् २००८ यता पहिलोपटक एप्पललको शेयर मूल्यमा भने गिरावट आएको छ ।']\""
      ]
     },
     "execution_count": 345,
     "metadata": {},
     "output_type": "execute_result"
    }
   ],
   "source": [
    "df['news'][0]"
   ]
  },
  {
   "cell_type": "code",
   "execution_count": 346,
   "metadata": {},
   "outputs": [],
   "source": [
    "def removeCharacs(text):\n",
    "    text=re.sub(REPLACE_BY_SPACE_RE,' ',text)# replace REPLACE_BY_SPACE_RE symbols by space in text\n",
    "    return text"
   ]
  },
  {
   "cell_type": "code",
   "execution_count": 347,
   "metadata": {},
   "outputs": [],
   "source": [
    "flatten = lambda x : ''.join(x.split('\\','))"
   ]
  },
  {
   "cell_type": "code",
   "execution_count": 348,
   "metadata": {},
   "outputs": [],
   "source": [
    "df['news'] = df['news'].map(flatten).map(removeCharacs)\n"
   ]
  },
  {
   "cell_type": "code",
   "execution_count": 349,
   "metadata": {},
   "outputs": [
    {
     "data": {
      "text/plain": [
       "['त', '्', 'ए', 'स', 'ै']"
      ]
     },
     "execution_count": 349,
     "metadata": {},
     "output_type": "execute_result"
    }
   ],
   "source": [
    "list('त्एसै' )"
   ]
  },
  {
   "cell_type": "code",
   "execution_count": 394,
   "metadata": {},
   "outputs": [],
   "source": [
    "def stem_text_cat2(text):\n",
    "    return re.sub('(मा|को|ले|बाट|का|हरु|हरुसँग|सँग|लाई|हरू|हरूसँग|हरू|पटक)','',text)"
   ]
  },
  {
   "cell_type": "code",
   "execution_count": 351,
   "metadata": {},
   "outputs": [],
   "source": [
    "allwords = open(\"dict.txt\").read().splitlines()"
   ]
  },
  {
   "cell_type": "code",
   "execution_count": 352,
   "metadata": {},
   "outputs": [],
   "source": [
    "suffixes = ('ी' , 'ीया' ,  'ीय' ,'े' , 'नु' , 'दै' , 'ेको' , 'ै')\n",
    "def stem_text_cat1(word):\n",
    "    if word.endswith(suffixes):\n",
    "        wordlist =  [word.rstrip(x) for x in suffixes]\n",
    "        for i in wordlist:\n",
    "            if i!= word:\n",
    "                if i in allwords:\n",
    "                    return i\n",
    "                    \n",
    "        \n",
    "    return word\n",
    "    "
   ]
  },
  {
   "cell_type": "code",
   "execution_count": 353,
   "metadata": {},
   "outputs": [],
   "source": [
    "def stemming(text):\n",
    "    text =  ' '.join([stem_text_cat1(a) for a in word_tokenize(text)])\n",
    "    return ' '.join([stem_text_cat2(a) for a in word_tokenize(text)])\n",
    "    "
   ]
  },
  {
   "cell_type": "code",
   "execution_count": 354,
   "metadata": {},
   "outputs": [],
   "source": [
    "df['news'] = df['news'].map(stemming)"
   ]
  },
  {
   "cell_type": "code",
   "execution_count": 355,
   "metadata": {},
   "outputs": [
    {
     "data": {
      "text/plain": [
       "'विश्व नम्वर वान टेक कम्पनी एप्पल मुख्य निस अर्थात् प्रमुख र्यरी अधिकृत सिइओ  पाउन तलब भत्ता चानचुने हुने त कुरै भएन । त्यसै एप्पल वर्तन सिइओ टिम कुक गत वर्ष सन् २०१५  १ अर्ब रुपैयाँ भन्दा बढि वाषिर्क तलबभत्ता बुझे छन् । अघिल्लो वर्ष तुलना सन् २०१५  कुक तलब भत्ता ११.५ प्रतिशत वृद्धि भए हो । र उन पछिल्लो एक वर्ष एप्पल १ करोड ३ लाख डलर रकम बुझे छन् । कुक आधारभुत बेतन गत वर्ष १४.४ प्रतिशत अर्थात् २० करोड रुपैयाँ वृद्धि भयो भन नन इक्विटी इन्सेन्टिभ १९ प्रतिशत वृद्धि भएर ८० करोड रुपैयाँ पुगे छ । सायद यतिधेरै तलब भत्ता थाप्न कुक एप्पल एकत्र कर्मचारी होलान् र अन्य कर्मचारी तलब उन भन्दा निक कम होला भन्न सोँच्नुहोला । तर अचम्म कुरा छ भन एप्पल उच्च पदस्थ र्यरीमध्ये कुक पाए तलब भत्ता सबैभन्दा कम हो । कम्पनी प्रमुख वित्तिय अधिकृत लू वाषिर्क तलब ८१ प्रतिशत वृद्धि भए छ र उन गत वर्ष अढाइ अर्ब रुपैयाँ भन्दा बढि तलब भत्ता बुझे छन् । रिटेल एण्ड अनलाइन स्टोर वरिष्ठ उपाध्यक्ष एन्जेला गत वर्ष एप्पल सबैभन्दा बढि तलब भत्ता बुझ्ने कर्मचारी हुन् । उन गत वर्ष उन २ अर्ब ६० करोड रुपैयाँ भन्दा बढि तलब भत्ता बुझेकी छिन् । गत वर्ष सन् २०१५  एप्पलल बिक्रि २८ प्रतिशत बढ्यो भन मुनाफा ३५ प्रतिशत बढे बताइए छ । तर सन् २००८ यता पहिलोपटक एप्पलल शेयर मूल्य भन गिरावट आए छ ।'"
      ]
     },
     "execution_count": 355,
     "metadata": {},
     "output_type": "execute_result"
    }
   ],
   "source": [
    "df['news'][0]"
   ]
  },
  {
   "cell_type": "code",
   "execution_count": 356,
   "metadata": {},
   "outputs": [
    {
     "data": {
      "text/plain": [
       "'def fullmatch(object1 , text):\\n    if object1 is None:\\n        return True\\n    start,stop = object1.span()\\n    if start-stop == len(text):\\n        return False\\n    else:\\n        return True'"
      ]
     },
     "execution_count": 356,
     "metadata": {},
     "output_type": "execute_result"
    }
   ],
   "source": [
    "'''def fullmatch(object1 , text):\n",
    "    if object1 is None:\n",
    "        return True\n",
    "    start,stop = object1.span()\n",
    "    if start-stop == len(text):\n",
    "        return False\n",
    "    else:\n",
    "        return True'''"
   ]
  },
  {
   "cell_type": "code",
   "execution_count": 357,
   "metadata": {},
   "outputs": [],
   "source": [
    "def findCandidates(text):\n",
    "    clusters=[]\n",
    "    word1=[]\n",
    "    for word in word_tokenize(text):\n",
    "        if word in stopwords:\n",
    "            clusters.append(word1)\n",
    "            word1 =[]\n",
    "            continue\n",
    "        else:\n",
    "            word1.append(word)\n",
    "    return [' '.join(a).replace('।','') for a in clusters if len(a)>1]        "
   ]
  },
  {
   "cell_type": "code",
   "execution_count": 358,
   "metadata": {},
   "outputs": [
    {
     "data": {
      "text/plain": [
       "['विश्व नम्वर वान टेक कम्पनी एप्पल',\n",
       " 'प्रमुख र्यरी अधिकृत सिइओ पाउन तलब भत्ता चानचुने',\n",
       " ' त्यसै एप्पल वर्तन सिइओ टिम कुक गत वर्ष सन् २०१५ १ अर्ब रुपैयाँ',\n",
       " 'बढि वाषिर्क तलबभत्ता बुझे',\n",
       " ' अघिल्लो वर्ष तुलना सन् २०१५ कुक तलब भत्ता ११.५ प्रतिशत वृद्धि',\n",
       " 'वर्ष एप्पल १ करोड ३',\n",
       " 'डलर रकम बुझे',\n",
       " ' कुक आधारभुत बेतन गत वर्ष १४.४ प्रतिशत',\n",
       " '२० करोड रुपैयाँ वृद्धि',\n",
       " 'नन इक्विटी इन्सेन्टिभ १९ प्रतिशत वृद्धि',\n",
       " '८० करोड रुपैयाँ पुगे',\n",
       " 'यतिधेरै तलब भत्ता थाप्न कुक एप्पल एकत्र कर्मचारी होलान्',\n",
       " 'कर्मचारी तलब उन',\n",
       " 'भन्न सोँच्नुहोला ',\n",
       " 'एप्पल उच्च पदस्थ र्यरीमध्ये कुक पाए तलब भत्ता सबैभन्दा',\n",
       " ' कम्पनी प्रमुख वित्तिय अधिकृत लू वाषिर्क तलब ८१ प्रतिशत वृद्धि',\n",
       " 'उन गत वर्ष अढाइ अर्ब रुपैयाँ',\n",
       " 'बढि तलब भत्ता बुझे',\n",
       " ' रिटेल एण्ड अनलाइन स्टोर वरिष्ठ उपाध्यक्ष एन्जेला गत वर्ष एप्पल सबैभन्दा बढि तलब भत्ता बुझ्ने कर्मचारी',\n",
       " ' उन गत वर्ष उन २ अर्ब ६० करोड रुपैयाँ',\n",
       " 'बढि तलब भत्ता बुझेकी छिन्  गत वर्ष सन् २०१५ एप्पलल बिक्रि २८ प्रतिशत बढ्यो',\n",
       " 'मुनाफा ३५ प्रतिशत बढे बताइए',\n",
       " 'सन् २००८ यता पहिलोपटक एप्पलल शेयर मूल्य']"
      ]
     },
     "execution_count": 358,
     "metadata": {},
     "output_type": "execute_result"
    }
   ],
   "source": [
    "findCandidates(df['news'][0])"
   ]
  },
  {
   "cell_type": "code",
   "execution_count": 359,
   "metadata": {},
   "outputs": [
    {
     "data": {
      "text/plain": [
       "'विश्व नम्वर वान टेक कम्पनी एप्पल मुख्य निस अर्थात् प्रमुख र्यरी अधिकृत सिइओ  पाउन तलब भत्ता चानचुने हुने त कुरै भएन । त्यसै एप्पल वर्तन सिइओ टिम कुक गत वर्ष सन् २०१५  १ अर्ब रुपैयाँ भन्दा बढि वाषिर्क तलबभत्ता बुझे छन् । अघिल्लो वर्ष तुलना सन् २०१५  कुक तलब भत्ता ११.५ प्रतिशत वृद्धि भए हो । र उन पछिल्लो एक वर्ष एप्पल १ करोड ३ लाख डलर रकम बुझे छन् । कुक आधारभुत बेतन गत वर्ष १४.४ प्रतिशत अर्थात् २० करोड रुपैयाँ वृद्धि भयो भन नन इक्विटी इन्सेन्टिभ १९ प्रतिशत वृद्धि भएर ८० करोड रुपैयाँ पुगे छ । सायद यतिधेरै तलब भत्ता थाप्न कुक एप्पल एकत्र कर्मचारी होलान् र अन्य कर्मचारी तलब उन भन्दा निक कम होला भन्न सोँच्नुहोला । तर अचम्म कुरा छ भन एप्पल उच्च पदस्थ र्यरीमध्ये कुक पाए तलब भत्ता सबैभन्दा कम हो । कम्पनी प्रमुख वित्तिय अधिकृत लू वाषिर्क तलब ८१ प्रतिशत वृद्धि भए छ र उन गत वर्ष अढाइ अर्ब रुपैयाँ भन्दा बढि तलब भत्ता बुझे छन् । रिटेल एण्ड अनलाइन स्टोर वरिष्ठ उपाध्यक्ष एन्जेला गत वर्ष एप्पल सबैभन्दा बढि तलब भत्ता बुझ्ने कर्मचारी हुन् । उन गत वर्ष उन २ अर्ब ६० करोड रुपैयाँ भन्दा बढि तलब भत्ता बुझेकी छिन् । गत वर्ष सन् २०१५  एप्पलल बिक्रि २८ प्रतिशत बढ्यो भन मुनाफा ३५ प्रतिशत बढे बताइए छ । तर सन् २००८ यता पहिलोपटक एप्पलल शेयर मूल्य भन गिरावट आए छ ।'"
      ]
     },
     "execution_count": 359,
     "metadata": {},
     "output_type": "execute_result"
    }
   ],
   "source": [
    "df['news'][0]"
   ]
  },
  {
   "cell_type": "code",
   "execution_count": 360,
   "metadata": {},
   "outputs": [
    {
     "data": {
      "text/plain": [
       "['रामको', '्पनी छ']"
      ]
     },
     "execution_count": 360,
     "metadata": {},
     "output_type": "execute_result"
    }
   ],
   "source": [
    "stopwords = ['कम','र']\n",
    "regex = r'(?!^)\\s*\\b(?:{})\\b'.format(\"|\".join(stopwords))\n",
    "sent = \"रामको कम्पनी छ\"\n",
    "re.split(regex,sent)"
   ]
  },
  {
   "cell_type": "code",
   "execution_count": 361,
   "metadata": {},
   "outputs": [
    {
     "data": {
      "text/plain": [
       "False"
      ]
     },
     "execution_count": 361,
     "metadata": {},
     "output_type": "execute_result"
    }
   ],
   "source": [
    "'तलबभत्ता' in stopwords"
   ]
  },
  {
   "cell_type": "code",
   "execution_count": 362,
   "metadata": {},
   "outputs": [
    {
     "data": {
      "text/plain": [
       "['Ram is number 1 than hari']"
      ]
     },
     "execution_count": 362,
     "metadata": {},
     "output_type": "execute_result"
    }
   ],
   "source": [
    "keys(\"Ram is number 1 than hari\")"
   ]
  },
  {
   "cell_type": "code",
   "execution_count": 363,
   "metadata": {},
   "outputs": [
    {
     "data": {
      "text/plain": [
       "['विश्व ', '']"
      ]
     },
     "execution_count": 363,
     "metadata": {},
     "output_type": "execute_result"
    }
   ],
   "source": [
    "keys(df['news'][0])"
   ]
  },
  {
   "cell_type": "code",
   "execution_count": null,
   "metadata": {},
   "outputs": [],
   "source": []
  },
  {
   "cell_type": "code",
   "execution_count": 364,
   "metadata": {},
   "outputs": [],
   "source": [
    "#Tokenize sentence\n",
    "import nltk"
   ]
  },
  {
   "cell_type": "code",
   "execution_count": 365,
   "metadata": {},
   "outputs": [],
   "source": [
    "def sent_tokenize(text):\n",
    "    sentence = [x for x in text.split('।')] \n",
    "    return sentence"
   ]
  },
  {
   "cell_type": "code",
   "execution_count": 366,
   "metadata": {},
   "outputs": [],
   "source": [
    "df['news']=df['news'].map(sent_tokenize)"
   ]
  },
  {
   "cell_type": "code",
   "execution_count": 367,
   "metadata": {},
   "outputs": [],
   "source": [
    "df['original'] = df['news']"
   ]
  },
  {
   "cell_type": "code",
   "execution_count": 368,
   "metadata": {},
   "outputs": [],
   "source": [
    "def check(x):\n",
    "    try:\n",
    "        if isinstance(float(x), float):\n",
    "            return False\n",
    "    except:\n",
    "        return True\n"
   ]
  },
  {
   "cell_type": "code",
   "execution_count": 369,
   "metadata": {},
   "outputs": [],
   "source": [
    "# function to remove stopwords\n",
    "def remove_stopword(sen):\n",
    "    sen_new = \" \".join([i for i in sen if i not in stopwords and check(i)])\n",
    "    return sen_new"
   ]
  },
  {
   "cell_type": "code",
   "execution_count": null,
   "metadata": {},
   "outputs": [],
   "source": []
  },
  {
   "cell_type": "code",
   "execution_count": 370,
   "metadata": {},
   "outputs": [],
   "source": [
    "remove_stopwords = lambda sent : [remove_stopword(r.split()) for r in sent]\n"
   ]
  },
  {
   "cell_type": "code",
   "execution_count": 371,
   "metadata": {},
   "outputs": [
    {
     "data": {
      "text/plain": [
       "['विश्व नम्वर वान टेक कम्पनी एप्पल मुख्य निस अर्थात् प्रमुख र्यरी अधिकृत सिइओ  पाउन तलब भत्ता चानचुने हुने त कुरै भएन ',\n",
       " ' त्यसै एप्पल वर्तन सिइओ टिम कुक गत वर्ष सन् २०१५  १ अर्ब रुपैयाँ भन्दा बढि वाषिर्क तलबभत्ता बुझे छन् ',\n",
       " ' अघिल्लो वर्ष तुलना सन् २०१५  कुक तलब भत्ता ११.५ प्रतिशत वृद्धि भए हो ',\n",
       " ' र उन पछिल्लो एक वर्ष एप्पल १ करोड ३ लाख डलर रकम बुझे छन् ',\n",
       " ' कुक आधारभुत बेतन गत वर्ष १४.४ प्रतिशत अर्थात् २० करोड रुपैयाँ वृद्धि भयो भन नन इक्विटी इन्सेन्टिभ १९ प्रतिशत वृद्धि भएर ८० करोड रुपैयाँ पुगे छ ',\n",
       " ' सायद यतिधेरै तलब भत्ता थाप्न कुक एप्पल एकत्र कर्मचारी होलान् र अन्य कर्मचारी तलब उन भन्दा निक कम होला भन्न सोँच्नुहोला ',\n",
       " ' तर अचम्म कुरा छ भन एप्पल उच्च पदस्थ र्यरीमध्ये कुक पाए तलब भत्ता सबैभन्दा कम हो ',\n",
       " ' कम्पनी प्रमुख वित्तिय अधिकृत लू वाषिर्क तलब ८१ प्रतिशत वृद्धि भए छ र उन गत वर्ष अढाइ अर्ब रुपैयाँ भन्दा बढि तलब भत्ता बुझे छन् ',\n",
       " ' रिटेल एण्ड अनलाइन स्टोर वरिष्ठ उपाध्यक्ष एन्जेला गत वर्ष एप्पल सबैभन्दा बढि तलब भत्ता बुझ्ने कर्मचारी हुन् ',\n",
       " ' उन गत वर्ष उन २ अर्ब ६० करोड रुपैयाँ भन्दा बढि तलब भत्ता बुझेकी छिन् ',\n",
       " ' गत वर्ष सन् २०१५  एप्पलल बिक्रि २८ प्रतिशत बढ्यो भन मुनाफा ३५ प्रतिशत बढे बताइए छ ',\n",
       " ' तर सन् २००८ यता पहिलोपटक एप्पलल शेयर मूल्य भन गिरावट आए छ ',\n",
       " '']"
      ]
     },
     "execution_count": 371,
     "metadata": {},
     "output_type": "execute_result"
    }
   ],
   "source": [
    "df['news'][0]"
   ]
  },
  {
   "cell_type": "code",
   "execution_count": null,
   "metadata": {},
   "outputs": [],
   "source": []
  },
  {
   "cell_type": "code",
   "execution_count": null,
   "metadata": {},
   "outputs": [],
   "source": []
  },
  {
   "cell_type": "code",
   "execution_count": 372,
   "metadata": {},
   "outputs": [],
   "source": [
    "df['news']=df['news'].map(remove_stopwords)\n"
   ]
  },
  {
   "cell_type": "code",
   "execution_count": 395,
   "metadata": {},
   "outputs": [
    {
     "data": {
      "text/plain": [
       "'एप्पलका सिइओको वर्षदिनको तलब भत्ता १ अर्ब, सबैभन्दा धेरै तलब खानेमा महिला हाकिम'"
      ]
     },
     "execution_count": 395,
     "metadata": {},
     "output_type": "execute_result"
    }
   ],
   "source": []
  },
  {
   "cell_type": "code",
   "execution_count": null,
   "metadata": {},
   "outputs": [],
   "source": []
  },
  {
   "cell_type": "code",
   "execution_count": 374,
   "metadata": {},
   "outputs": [],
   "source": [
    "# TF-IDF approaches to create features for our sentences"
   ]
  },
  {
   "cell_type": "code",
   "execution_count": 375,
   "metadata": {},
   "outputs": [],
   "source": [
    "from sklearn.feature_extraction.text import TfidfVectorizer"
   ]
  },
  {
   "cell_type": "code",
   "execution_count": 376,
   "metadata": {},
   "outputs": [],
   "source": [
    "def tfidf(corpus):\n",
    "    vectorizer = TfidfVectorizer(max_df = 5 , min_df = 1)\n",
    "    X = vectorizer.fit_transform(corpus)\n",
    "    stopwords = vectorizer.get_stop_words()\n",
    "    return X\n",
    "    "
   ]
  },
  {
   "cell_type": "code",
   "execution_count": 377,
   "metadata": {},
   "outputs": [],
   "source": [
    "df['news_vector']=df['news'].map(tfidf)\n"
   ]
  },
  {
   "cell_type": "code",
   "execution_count": 378,
   "metadata": {},
   "outputs": [],
   "source": [
    "from sklearn.metrics.pairwise import cosine_similarity"
   ]
  },
  {
   "cell_type": "code",
   "execution_count": null,
   "metadata": {},
   "outputs": [],
   "source": []
  },
  {
   "cell_type": "code",
   "execution_count": 384,
   "metadata": {},
   "outputs": [],
   "source": [
    "def similarity(sentences):\n",
    "    sim_mat = np.zeros([sentences.shape[0],sentences.shape[0]])\n",
    "    for i in range(sentences.shape[0]):\n",
    "          for j in range(sentences.shape[0]):\n",
    "                if i != j:\n",
    "                      sim_mat[i][j] = cosine_similarity(sentences[i], sentences[j])[0,0]\n",
    "                        \n",
    "    return sim_mat"
   ]
  },
  {
   "cell_type": "code",
   "execution_count": 385,
   "metadata": {},
   "outputs": [],
   "source": [
    "from gensim.summarization.bm25 import get_bm25_weights\n"
   ]
  },
  {
   "cell_type": "code",
   "execution_count": 386,
   "metadata": {},
   "outputs": [],
   "source": [
    "def bm_similarity(sentences):\n",
    "    return get_bm25_weights(sentences , n_jobs = -1)\n",
    "    "
   ]
  },
  {
   "cell_type": "code",
   "execution_count": 387,
   "metadata": {},
   "outputs": [],
   "source": [
    "df['similarity']=df['news_vector'].map(similarity)\n",
    "#df['bm-similarity'] = df['news'].map(bm_similarity)"
   ]
  },
  {
   "cell_type": "code",
   "execution_count": 388,
   "metadata": {},
   "outputs": [],
   "source": [
    "import networkx as nx\n"
   ]
  },
  {
   "cell_type": "code",
   "execution_count": 389,
   "metadata": {},
   "outputs": [],
   "source": [
    "ranks=[]\n",
    "for i in range(len(df)):\n",
    "    nx_graph = nx.from_numpy_array(df['similarity'][i])\n",
    "    scores = nx.pagerank(nx_graph)\n",
    "    ranked_sentences = sorted(((scores[k],s) for k,s in enumerate(df['original'][i])), reverse=True)\n",
    "    ranks.append((ranked_sentences[0:3]))\n",
    "    "
   ]
  },
  {
   "cell_type": "code",
   "execution_count": 390,
   "metadata": {},
   "outputs": [],
   "source": [
    "summaries = pd.DataFrame(ranks,columns = ['Summary1','Summary2','Summary3'])"
   ]
  },
  {
   "cell_type": "code",
   "execution_count": 415,
   "metadata": {},
   "outputs": [
    {
     "data": {
      "text/plain": [
       "(0.08631768155364686,\n",
       " ' यस छिटै ४९९ डलर महंगो फोर जी स्र्टफोन पनि बजार ल्याउन तयार गरिरहे छ ')"
      ]
     },
     "execution_count": 415,
     "metadata": {},
     "output_type": "execute_result"
    }
   ],
   "source": [
    "summaries['Summary3'][2]"
   ]
  },
  {
   "cell_type": "code",
   "execution_count": 404,
   "metadata": {},
   "outputs": [
    {
     "data": {
      "text/plain": [
       "'अनौठो स्मार्टफोन, जो मोबाइल फोनमै इ-चुरोट पनि'"
      ]
     },
     "execution_count": 404,
     "metadata": {},
     "output_type": "execute_result"
    }
   ],
   "source": [
    "df['headline'][2]"
   ]
  },
  {
   "cell_type": "code",
   "execution_count": null,
   "metadata": {},
   "outputs": [],
   "source": []
  },
  {
   "cell_type": "code",
   "execution_count": null,
   "metadata": {},
   "outputs": [],
   "source": []
  },
  {
   "cell_type": "code",
   "execution_count": null,
   "metadata": {},
   "outputs": [],
   "source": []
  },
  {
   "cell_type": "code",
   "execution_count": null,
   "metadata": {},
   "outputs": [],
   "source": []
  },
  {
   "cell_type": "code",
   "execution_count": null,
   "metadata": {},
   "outputs": [],
   "source": []
  },
  {
   "cell_type": "code",
   "execution_count": null,
   "metadata": {},
   "outputs": [],
   "source": []
  },
  {
   "cell_type": "code",
   "execution_count": null,
   "metadata": {},
   "outputs": [],
   "source": []
  }
 ],
 "metadata": {
  "kernelspec": {
   "display_name": "Python 3",
   "language": "python",
   "name": "python3"
  },
  "language_info": {
   "codemirror_mode": {
    "name": "ipython",
    "version": 3
   },
   "file_extension": ".py",
   "mimetype": "text/x-python",
   "name": "python",
   "nbconvert_exporter": "python",
   "pygments_lexer": "ipython3",
   "version": "3.6.6"
  }
 },
 "nbformat": 4,
 "nbformat_minor": 2
}
