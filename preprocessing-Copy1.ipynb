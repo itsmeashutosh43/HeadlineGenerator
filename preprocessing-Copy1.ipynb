{
 "cells": [
  {
   "cell_type": "markdown",
   "metadata": {},
   "source": [
    "# Loading Data"
   ]
  },
  {
   "cell_type": "code",
   "execution_count": 1,
   "metadata": {},
   "outputs": [],
   "source": [
    "import os\n",
    "import re\n",
    "import pandas as pd\n",
    "import nltk\n",
    "from nltk import word_tokenize\n",
    "stopwords = open(\"stopwords.txt\").read().splitlines()\n",
    "def loadData(loc):\n",
    "        BASEDIR=os.path.dirname(os.path.realpath('__file__'))\n",
    "        df=pd.read_csv(BASEDIR+loc,names=[\"headline\",\"news\"])\n",
    "        return df\n"
   ]
  },
  {
   "cell_type": "code",
   "execution_count": 2,
   "metadata": {},
   "outputs": [],
   "source": [
    "import numpy as np"
   ]
  },
  {
   "cell_type": "code",
   "execution_count": 3,
   "metadata": {},
   "outputs": [],
   "source": [
    "df=loadData(\"/dataset/onlineKhabar.csv\")\n",
    "REPLACE_BY_SPACE_RE = re.compile('[?!/(){}\\[\\]\\|@,;\\'\\']')"
   ]
  },
  {
   "cell_type": "markdown",
   "metadata": {},
   "source": [
    "# Text Pre-processing"
   ]
  },
  {
   "cell_type": "code",
   "execution_count": 4,
   "metadata": {},
   "outputs": [],
   "source": [
    "def removeCharacs(text):\n",
    "    text=re.sub(REPLACE_BY_SPACE_RE,' ',text)# replace REPLACE_BY_SPACE_RE symbols by space in text\n",
    "    return text"
   ]
  },
  {
   "cell_type": "code",
   "execution_count": 5,
   "metadata": {},
   "outputs": [],
   "source": [
    "flatten = lambda x : ''.join(x.split('\\','))"
   ]
  },
  {
   "cell_type": "code",
   "execution_count": 6,
   "metadata": {},
   "outputs": [],
   "source": [
    "df['news'] = df['news'].map(flatten).map(removeCharacs)\n"
   ]
  },
  {
   "cell_type": "code",
   "execution_count": null,
   "metadata": {},
   "outputs": [],
   "source": []
  },
  {
   "cell_type": "code",
   "execution_count": 7,
   "metadata": {},
   "outputs": [],
   "source": [
    "def stem_text_cat2(text):\n",
    "    return re.sub('(मा|को|ले|बाट|का|हरु|हरुसँग|सँग|लाई|हरू|हरूसँग|हरू|पटक)','',text)"
   ]
  },
  {
   "cell_type": "code",
   "execution_count": 8,
   "metadata": {},
   "outputs": [],
   "source": [
    "allwords = open(\"dict.txt\").read().splitlines()"
   ]
  },
  {
   "cell_type": "code",
   "execution_count": 9,
   "metadata": {},
   "outputs": [],
   "source": [
    "suffixes = ('ी' , 'ीया' ,  'ीय' ,'े' , 'नु' , 'दै' , 'ेको' , 'ै','कै')\n",
    "def stem_text_cat1(word):\n",
    "    if word.endswith(suffixes):\n",
    "        wordlist =  [word.rstrip(x) for x in suffixes]\n",
    "        for i in wordlist:\n",
    "            if i!= word:\n",
    "                if i in allwords:\n",
    "                    return i\n",
    "                    \n",
    "        \n",
    "    return word\n",
    "    "
   ]
  },
  {
   "cell_type": "code",
   "execution_count": 10,
   "metadata": {},
   "outputs": [],
   "source": [
    "def stemming(text):\n",
    "    text =  ' '.join([stem_text_cat1(a) for a in word_tokenize(text)])\n",
    "    return ' '.join([stem_text_cat2(a) for a in word_tokenize(text)])\n",
    "    "
   ]
  },
  {
   "cell_type": "code",
   "execution_count": 11,
   "metadata": {},
   "outputs": [],
   "source": [
    "df['news'] = df['news'].map(stemming)\n",
    "df['fk'] = df['news']"
   ]
  },
  {
   "cell_type": "code",
   "execution_count": null,
   "metadata": {},
   "outputs": [],
   "source": []
  },
  {
   "cell_type": "code",
   "execution_count": null,
   "metadata": {},
   "outputs": [],
   "source": []
  },
  {
   "cell_type": "code",
   "execution_count": 12,
   "metadata": {},
   "outputs": [],
   "source": [
    "#Tokenize sentence\n",
    "import nltk"
   ]
  },
  {
   "cell_type": "code",
   "execution_count": 13,
   "metadata": {},
   "outputs": [],
   "source": [
    "def sent_tokenize(text):\n",
    "    sentence = [x for x in text.split('।')] \n",
    "    return sentence"
   ]
  },
  {
   "cell_type": "code",
   "execution_count": 14,
   "metadata": {},
   "outputs": [],
   "source": [
    "df['news']=df['news'].map(sent_tokenize)"
   ]
  },
  {
   "cell_type": "code",
   "execution_count": 15,
   "metadata": {},
   "outputs": [],
   "source": [
    "df['original'] = df['news']"
   ]
  },
  {
   "cell_type": "code",
   "execution_count": 16,
   "metadata": {},
   "outputs": [],
   "source": [
    "def check(x):\n",
    "    try:\n",
    "        if isinstance(float(x), float):\n",
    "            return False\n",
    "    except:\n",
    "        return True\n"
   ]
  },
  {
   "cell_type": "code",
   "execution_count": 17,
   "metadata": {},
   "outputs": [],
   "source": [
    "# function to remove stopwords\n",
    "def remove_stopword(sen):\n",
    "    sen_new = \" \".join([i for i in sen if i not in stopwords and check(i)])\n",
    "    return sen_new"
   ]
  },
  {
   "cell_type": "code",
   "execution_count": 18,
   "metadata": {},
   "outputs": [],
   "source": [
    "remove_stopwords = lambda sent : [remove_stopword(r.split()) for r in sent]\n"
   ]
  },
  {
   "cell_type": "code",
   "execution_count": 19,
   "metadata": {},
   "outputs": [],
   "source": [
    "df['news']=df['news'].map(remove_stopwords)\n"
   ]
  },
  {
   "cell_type": "markdown",
   "metadata": {},
   "source": [
    "# TextRank Algorithm"
   ]
  },
  {
   "cell_type": "code",
   "execution_count": 20,
   "metadata": {},
   "outputs": [],
   "source": [
    "# TF-IDF approaches to create features for our sentences"
   ]
  },
  {
   "cell_type": "code",
   "execution_count": 21,
   "metadata": {},
   "outputs": [],
   "source": [
    "from sklearn.feature_extraction.text import TfidfVectorizer"
   ]
  },
  {
   "cell_type": "code",
   "execution_count": 22,
   "metadata": {},
   "outputs": [],
   "source": [
    "def tfidf(corpus):\n",
    "    vectorizer = TfidfVectorizer(max_df = 5 , min_df = 1)\n",
    "    X = vectorizer.fit_transform(corpus)\n",
    "    stopwords = vectorizer.get_stop_words()\n",
    "    return X\n",
    "    "
   ]
  },
  {
   "cell_type": "code",
   "execution_count": 23,
   "metadata": {},
   "outputs": [],
   "source": [
    "df['news_vector']=df['news'].map(tfidf)\n"
   ]
  },
  {
   "cell_type": "code",
   "execution_count": 24,
   "metadata": {},
   "outputs": [],
   "source": [
    "from sklearn.metrics.pairwise import cosine_similarity"
   ]
  },
  {
   "cell_type": "code",
   "execution_count": null,
   "metadata": {},
   "outputs": [],
   "source": []
  },
  {
   "cell_type": "code",
   "execution_count": 25,
   "metadata": {},
   "outputs": [],
   "source": [
    "def similarity(sentences):\n",
    "    sim_mat = np.zeros([sentences.shape[0],sentences.shape[0]])\n",
    "    for i in range(sentences.shape[0]):\n",
    "          for j in range(sentences.shape[0]):\n",
    "                if i != j:\n",
    "                      sim_mat[i][j] = cosine_similarity(sentences[i], sentences[j])[0,0]\n",
    "                        \n",
    "    return sim_mat"
   ]
  },
  {
   "cell_type": "code",
   "execution_count": null,
   "metadata": {},
   "outputs": [],
   "source": []
  },
  {
   "cell_type": "code",
   "execution_count": null,
   "metadata": {},
   "outputs": [],
   "source": []
  },
  {
   "cell_type": "code",
   "execution_count": 26,
   "metadata": {},
   "outputs": [],
   "source": [
    "df['similarity']=df['news_vector'].map(similarity)\n",
    "#df['bm-similarity'] = df['news'].map(bm_similarity)"
   ]
  },
  {
   "cell_type": "code",
   "execution_count": 27,
   "metadata": {},
   "outputs": [],
   "source": [
    "import networkx as nx\n"
   ]
  },
  {
   "cell_type": "code",
   "execution_count": 28,
   "metadata": {},
   "outputs": [],
   "source": [
    "ranks=[]\n",
    "for i in range(len(df)):\n",
    "    nx_graph = nx.from_numpy_array(df['similarity'][i])\n",
    "    scores = nx.pagerank(nx_graph)\n",
    "    ranked_sentences = sorted(((scores[k],s) for k,s in enumerate(df['original'][i])), reverse=True)\n",
    "    ranks.append((ranked_sentences[0:3]))\n",
    "    "
   ]
  },
  {
   "cell_type": "code",
   "execution_count": 29,
   "metadata": {},
   "outputs": [],
   "source": [
    "summaries = pd.DataFrame(ranks,columns = ['Summary1','Summary2','Summary3'])"
   ]
  },
  {
   "cell_type": "code",
   "execution_count": null,
   "metadata": {},
   "outputs": [],
   "source": []
  },
  {
   "cell_type": "markdown",
   "metadata": {},
   "source": [
    "# RAKE algorithm for keyword extraction"
   ]
  },
  {
   "cell_type": "code",
   "execution_count": 30,
   "metadata": {},
   "outputs": [],
   "source": [
    "# function to remove stopwords\n",
    "def remove_stopword(sen):\n",
    "    sen_new = \" \".join([i for i in sen if i not in stopwords and check(i)])\n",
    "    return sen_new\n",
    "remove_stopwords = lambda sent : [remove_stopword(r.split()) for r in sent]\n",
    "def remove_stopwords_w_num(sen):\n",
    "    sen_new = \" \".join([i for i in sen if i not in stopwords])\n",
    "    return sen_new\n",
    "remove_stopwords_w_num = lambda sent : [remove_stopword(r.split()) for r in sent]"
   ]
  },
  {
   "cell_type": "code",
   "execution_count": 31,
   "metadata": {},
   "outputs": [],
   "source": [
    "df['news-ws'] = df['news'].map(remove_stopwords)\n"
   ]
  },
  {
   "cell_type": "code",
   "execution_count": null,
   "metadata": {},
   "outputs": [],
   "source": []
  },
  {
   "cell_type": "code",
   "execution_count": null,
   "metadata": {},
   "outputs": [],
   "source": []
  },
  {
   "cell_type": "code",
   "execution_count": 32,
   "metadata": {},
   "outputs": [],
   "source": [
    "def checkMe(x):\n",
    "    try:\n",
    "        if isinstance(float(x), float):\n",
    "            return True\n",
    "    except:\n",
    "        return False\n",
    "def checkNum(x):\n",
    "    try:\n",
    "        if isinstance(float(x), float):\n",
    "            return \n",
    "    except:\n",
    "        return x\n",
    "\n",
    "def findCandidates(text):\n",
    "    clusters=[]\n",
    "    word1=[]\n",
    "    for word in word_tokenize(text):\n",
    "        if (word in stopwords) or checkMe(word):\n",
    "            clusters.append(word1)\n",
    "            word1 =[]\n",
    "            continue\n",
    "        else:\n",
    "            word1.append(word)\n",
    "    return [' '.join(a).replace('।','') for a in clusters if len(a)>1]\n",
    "df['kW-candidates'] = df['fk'].map(findCandidates)"
   ]
  },
  {
   "cell_type": "code",
   "execution_count": 33,
   "metadata": {},
   "outputs": [],
   "source": [
    "from collections import OrderedDict\n",
    "def find_scores(text):\n",
    "    document = [checkNum((word_tokenize(x))) for x in text]\n",
    "    vocab = set([x for x in ' '.join(text).split(' ') ])\n",
    "    vocab = list(vocab)\n",
    "    names = vocab\n",
    "    occurrences = OrderedDict((name, OrderedDict((name, 0) for name in names)) for name in names)\n",
    "\n",
    "# Find the co-occurrences:\n",
    "    for l in document:\n",
    "        for i in range(len(l)):\n",
    "            for item in l[:i] + l[i + 1:]:\n",
    "                occurrences[l[i]][item] += 1\n",
    "                \n",
    "                \n",
    "    rows = ['deg','freq','deg/freq']\n",
    "    word_scores = OrderedDict((name, OrderedDict((r, 0) for r in rows)) for name in names)\n",
    "    \n",
    "    \n",
    "    for key in word_scores.keys():\n",
    "        word_scores[key]['deg'] = sum(occurrences[key].values())\n",
    "        word_scores[key]['freq'] = len([x for x in occurrences[key].values() if x!=0])\n",
    "        if word_scores[key]['freq']!=0:\n",
    "            word_scores[key]['deg/freq'] = word_scores[key]['deg']/word_scores[key]['freq']\n",
    "        else:\n",
    "            word_scores[key]['deg/freq']= 0\n",
    "            \n",
    "            \n",
    "    scoredCandidates = []\n",
    "    for sent in range(len(text)):\n",
    "        sumis=0\n",
    "        for word in word_tokenize(text[sent]):\n",
    "            sumis += word_scores[word]['deg/freq']\n",
    "        scoredCandidates.append((text[sent],sumis/len(word_tokenize(text[sent]))))\n",
    "        \n",
    "    return sorted(list(set(scoredCandidates)), key = lambda x : x[1],reverse=True)\n"
   ]
  },
  {
   "cell_type": "code",
   "execution_count": 34,
   "metadata": {},
   "outputs": [],
   "source": [
    "def update(text):\n",
    "    keyword = []\n",
    "    count = 0\n",
    "    for i in text:\n",
    "        if count ==0:\n",
    "            keyword.append(i[0])\n",
    "        \n",
    "        else:\n",
    "            maxlen = max(len(i[0]),len(keyword[-1]))\n",
    "            if (nltk.edit_distance(i[0],keyword[-1])/maxlen)<=0.6:\n",
    "                pass\n",
    "            else:\n",
    "            \n",
    "                keyword.append(i[0])\n",
    "            \n",
    "        count+=1\n",
    "        \n",
    "    return keyword\n",
    "        "
   ]
  },
  {
   "cell_type": "code",
   "execution_count": 35,
   "metadata": {},
   "outputs": [],
   "source": [
    "df['scored'] = df['kW-candidates'].map(find_scores)"
   ]
  },
  {
   "cell_type": "code",
   "execution_count": 36,
   "metadata": {},
   "outputs": [],
   "source": [
    "df['n-scored'] = df['scored'].map(update)\n",
    "keywords = lambda text : ' '.join(set([x for a in text[:5] for x in a.split(' ')]))\n",
    "df['keywords'] = df['n-scored'].map(keywords)"
   ]
  },
  {
   "cell_type": "markdown",
   "metadata": {},
   "source": [
    "# Similarity Between Top Sentences and Keywords"
   ]
  },
  {
   "cell_type": "code",
   "execution_count": null,
   "metadata": {},
   "outputs": [],
   "source": []
  },
  {
   "cell_type": "code",
   "execution_count": 37,
   "metadata": {},
   "outputs": [],
   "source": [
    "from difflib import SequenceMatcher\n",
    "summary_sentence = [] \n",
    "for i in range(len(df)):\n",
    "    ratio=[]\n",
    "    text1 = df['keywords'][i]\n",
    "    for j in range(3):\n",
    "        text = summaries['Summary'+str(j+1)][i][1]\n",
    "        ratio.append(SequenceMatcher(None, text, text1).ratio())\n",
    "        \n",
    "    index = ratio.index(max(ratio))\n",
    "    \n",
    "    summary_sentence.append(summaries['Summary'+str(index+1)][i])\n",
    "    \n",
    "    \n",
    "    #print(index,summary_sentence)"
   ]
  },
  {
   "cell_type": "code",
   "execution_count": 38,
   "metadata": {},
   "outputs": [],
   "source": [
    "summary_sentence = [] \n",
    "for i in range(len(df)):\n",
    "    ratio=[]\n",
    "    text1 = df['keywords'][i]\n",
    "    for j in range(3):\n",
    "        text = summaries['Summary'+str(j+1)][i][1]\n",
    "        ratio.append(SequenceMatcher(None, text, text1).ratio())\n",
    "        \n",
    "    index = ratio.index(max(ratio))\n",
    "    \n",
    "    summary_sentence.append(summaries['Summary'+str(index+1)][i])\n",
    "    \n",
    "    \n",
    "    #print(index,summary_sentence)"
   ]
  },
  {
   "cell_type": "code",
   "execution_count": 39,
   "metadata": {},
   "outputs": [
    {
     "name": "stdout",
     "output_type": "stream",
     "text": [
      "(0.10294528052017053, ' आगामी सेप्टेम्बरसम्म नयाँ अपरेटिङ सिस्टम आइओएस १३ सब एप्पल प्रयोगकर्ता लागि उपलब्ध गराउन योजना एप्पल छ ')\n"
     ]
    }
   ],
   "source": [
    "print(summary_sentence[1]) "
   ]
  },
  {
   "cell_type": "markdown",
   "metadata": {},
   "source": [
    "# Find Accuracy with ROGUE Measure"
   ]
  },
  {
   "cell_type": "code",
   "execution_count": 40,
   "metadata": {},
   "outputs": [],
   "source": [
    "def find_recall(x,y):\n",
    "    '''\n",
    "    x: generated summary\n",
    "    y: reference summary\n",
    "    '''\n",
    "    similarity = set(word_tokenize(x)).intersection(set(word_tokenize(y)))\n",
    "    return len(similarity)/len(set(word_tokenize(y)))"
   ]
  },
  {
   "cell_type": "code",
   "execution_count": 41,
   "metadata": {},
   "outputs": [],
   "source": [
    "def find_precision(x,y):\n",
    "    '''\n",
    "    x: generated summary\n",
    "    y: reference summary\n",
    "    '''\n",
    "    similarity = set(word_tokenize(x)).intersection(set(word_tokenize(y)))\n",
    "    return len(similarity)/len(set(word_tokenize(x)))"
   ]
  },
  {
   "cell_type": "code",
   "execution_count": 42,
   "metadata": {},
   "outputs": [],
   "source": [
    "def find_rogue_accuracy( x , y ):\n",
    "    print(\"ROGUE Precision is, \",find_precision(x,y))\n",
    "    print(\"ROGUE Recall is, \",find_recall(x,y))\n",
    "    "
   ]
  },
  {
   "cell_type": "code",
   "execution_count": 43,
   "metadata": {},
   "outputs": [],
   "source": [
    "def stem_r_stopwords(text):\n",
    "    \n",
    "    text = stemming(text)\n",
    "    return ' '.join([x for x in word_tokenize(text) if x not in stopwords])"
   ]
  },
  {
   "cell_type": "code",
   "execution_count": 44,
   "metadata": {},
   "outputs": [],
   "source": [
    "def find_acc(i):\n",
    "    find_rogue_accuracy(stem_r_stopwords(summary_sentence[i][1]),stem_r_stopwords(df['headline'][i]))\n",
    "    print(summary_sentence[i][1],'***',df['headline'][i])"
   ]
  },
  {
   "cell_type": "code",
   "execution_count": 52,
   "metadata": {},
   "outputs": [
    {
     "ename": "IndexError",
     "evalue": "list index out of range",
     "output_type": "error",
     "traceback": [
      "\u001b[0;31m---------------------------------------------------------------------------\u001b[0m",
      "\u001b[0;31mIndexError\u001b[0m                                Traceback (most recent call last)",
      "\u001b[0;32m<ipython-input-52-6ddc98b625d4>\u001b[0m in \u001b[0;36m<module>\u001b[0;34m()\u001b[0m\n\u001b[0;32m----> 1\u001b[0;31m \u001b[0mfind_acc\u001b[0m\u001b[0;34m(\u001b[0m\u001b[0;36m16\u001b[0m\u001b[0;34m)\u001b[0m\u001b[0;34m\u001b[0m\u001b[0m\n\u001b[0m",
      "\u001b[0;32m<ipython-input-44-9472fc9bcae1>\u001b[0m in \u001b[0;36mfind_acc\u001b[0;34m(i)\u001b[0m\n\u001b[1;32m      1\u001b[0m \u001b[0;32mdef\u001b[0m \u001b[0mfind_acc\u001b[0m\u001b[0;34m(\u001b[0m\u001b[0mi\u001b[0m\u001b[0;34m)\u001b[0m\u001b[0;34m:\u001b[0m\u001b[0;34m\u001b[0m\u001b[0m\n\u001b[0;32m----> 2\u001b[0;31m     \u001b[0mfind_rogue_accuracy\u001b[0m\u001b[0;34m(\u001b[0m\u001b[0mstem_r_stopwords\u001b[0m\u001b[0;34m(\u001b[0m\u001b[0msummary_sentence\u001b[0m\u001b[0;34m[\u001b[0m\u001b[0mi\u001b[0m\u001b[0;34m]\u001b[0m\u001b[0;34m[\u001b[0m\u001b[0;36m1\u001b[0m\u001b[0;34m]\u001b[0m\u001b[0;34m)\u001b[0m\u001b[0;34m,\u001b[0m\u001b[0mstem_r_stopwords\u001b[0m\u001b[0;34m(\u001b[0m\u001b[0mdf\u001b[0m\u001b[0;34m[\u001b[0m\u001b[0;34m'headline'\u001b[0m\u001b[0;34m]\u001b[0m\u001b[0;34m[\u001b[0m\u001b[0mi\u001b[0m\u001b[0;34m]\u001b[0m\u001b[0;34m)\u001b[0m\u001b[0;34m)\u001b[0m\u001b[0;34m\u001b[0m\u001b[0m\n\u001b[0m\u001b[1;32m      3\u001b[0m     \u001b[0mprint\u001b[0m\u001b[0;34m(\u001b[0m\u001b[0msummary_sentence\u001b[0m\u001b[0;34m[\u001b[0m\u001b[0mi\u001b[0m\u001b[0;34m]\u001b[0m\u001b[0;34m[\u001b[0m\u001b[0;36m1\u001b[0m\u001b[0;34m]\u001b[0m\u001b[0;34m,\u001b[0m\u001b[0;34m'***'\u001b[0m\u001b[0;34m,\u001b[0m\u001b[0mdf\u001b[0m\u001b[0;34m[\u001b[0m\u001b[0;34m'headline'\u001b[0m\u001b[0;34m]\u001b[0m\u001b[0;34m[\u001b[0m\u001b[0mi\u001b[0m\u001b[0;34m]\u001b[0m\u001b[0;34m)\u001b[0m\u001b[0;34m\u001b[0m\u001b[0m\n",
      "\u001b[0;31mIndexError\u001b[0m: list index out of range"
     ]
    }
   ],
   "source": [
    "find_acc(16)"
   ]
  },
  {
   "cell_type": "code",
   "execution_count": null,
   "metadata": {},
   "outputs": [],
   "source": []
  },
  {
   "cell_type": "code",
   "execution_count": null,
   "metadata": {},
   "outputs": [],
   "source": []
  },
  {
   "cell_type": "code",
   "execution_count": null,
   "metadata": {},
   "outputs": [],
   "source": []
  },
  {
   "cell_type": "code",
   "execution_count": null,
   "metadata": {},
   "outputs": [],
   "source": []
  },
  {
   "cell_type": "code",
   "execution_count": null,
   "metadata": {},
   "outputs": [],
   "source": []
  },
  {
   "cell_type": "code",
   "execution_count": null,
   "metadata": {},
   "outputs": [],
   "source": []
  },
  {
   "cell_type": "code",
   "execution_count": null,
   "metadata": {},
   "outputs": [],
   "source": []
  }
 ],
 "metadata": {
  "kernelspec": {
   "display_name": "Python 3",
   "language": "python",
   "name": "python3"
  },
  "language_info": {
   "codemirror_mode": {
    "name": "ipython",
    "version": 3
   },
   "file_extension": ".py",
   "mimetype": "text/x-python",
   "name": "python",
   "nbconvert_exporter": "python",
   "pygments_lexer": "ipython3",
   "version": "3.6.6"
  }
 },
 "nbformat": 4,
 "nbformat_minor": 2
}
