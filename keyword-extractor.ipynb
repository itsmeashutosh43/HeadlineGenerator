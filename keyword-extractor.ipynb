{
 "cells": [
  {
   "cell_type": "code",
   "execution_count": 243,
   "metadata": {},
   "outputs": [],
   "source": [
    "from sklearn.feature_extraction.text import CountVectorizer\n",
    "docs = ['this this this book',\n",
    "        'this cat good',\n",
    "        'cat good shit']"
   ]
  },
  {
   "cell_type": "code",
   "execution_count": 244,
   "metadata": {},
   "outputs": [],
   "source": [
    "def count(docs):\n",
    "    count_model = CountVectorizer(ngram_range=(1,1))\n",
    "    X = count_model.fit_transform(docs)\n",
    "    Xc = (X.T * X)\n",
    "    print (Xc.shape)\n",
    "    print(count_model.get_feature_names())\n",
    "    print(Xc.todense())\n",
    "    \n",
    "    "
   ]
  },
  {
   "cell_type": "code",
   "execution_count": 245,
   "metadata": {},
   "outputs": [],
   "source": [
    "count_model = CountVectorizer(ngram_range=(1,1))"
   ]
  },
  {
   "cell_type": "code",
   "execution_count": 246,
   "metadata": {},
   "outputs": [
    {
     "name": "stdout",
     "output_type": "stream",
     "text": [
      "[[ 1  0  0  0  3]\n",
      " [ 0  2  2  1  1]\n",
      " [ 0  2  2  1  1]\n",
      " [ 0  1  1  1  0]\n",
      " [ 3  1  1  0 10]]\n"
     ]
    }
   ],
   "source": [
    "X = count_model.fit_transform(docs)\n",
    "Xc = (X.T * X)\n",
    "print(Xc.todense())"
   ]
  },
  {
   "cell_type": "code",
   "execution_count": 247,
   "metadata": {},
   "outputs": [],
   "source": [
    "import re\n",
    "trails = ['Ram','1','shyam','hari']\n",
    "\n",
    "# \\b means word boundaries.\n",
    "regex = r\"\\b(?:{})\\b\".format(\"|\".join(trails))\n",
    "\n",
    "s = \"Ram is number 1 than hari\"\n",
    "\n",
    "res = re.split(regex, s)"
   ]
  },
  {
   "cell_type": "code",
   "execution_count": 248,
   "metadata": {},
   "outputs": [
    {
     "name": "stdout",
     "output_type": "stream",
     "text": [
      "['', ' is number ', ' than ', '']\n"
     ]
    }
   ],
   "source": [
    "print(res)"
   ]
  },
  {
   "cell_type": "code",
   "execution_count": 249,
   "metadata": {},
   "outputs": [],
   "source": [
    "import os\n",
    "import stopwords\n",
    "import re\n",
    "import pandas as pd\n",
    "import nltk\n",
    "from nltk import word_tokenize\n",
    "stopwords = open(\"stopwords.txt\").read().splitlines()\n",
    "def loadData(loc):\n",
    "        BASEDIR=os.path.dirname(os.path.realpath('__file__'))\n",
    "        df=pd.read_csv(BASEDIR+loc,names=[\"headline\",\"news\"])\n",
    "        return df\n"
   ]
  },
  {
   "cell_type": "code",
   "execution_count": 250,
   "metadata": {},
   "outputs": [],
   "source": [
    "import numpy as np"
   ]
  },
  {
   "cell_type": "code",
   "execution_count": 251,
   "metadata": {},
   "outputs": [],
   "source": [
    "df=loadData(\"/dataset/onlineKhabar.csv\")\n",
    "REPLACE_BY_SPACE_RE = re.compile('[?!/(){}\\[\\]\\|@,;\\'\\']')\n",
    "def removeCharacs(text):\n",
    "    text=re.sub(REPLACE_BY_SPACE_RE,' ',text)# replace REPLACE_BY_SPACE_RE symbols by space in text\n",
    "    return text"
   ]
  },
  {
   "cell_type": "code",
   "execution_count": 252,
   "metadata": {},
   "outputs": [],
   "source": [
    "flatten = lambda x : ''.join(x.split('\\','))"
   ]
  },
  {
   "cell_type": "code",
   "execution_count": 253,
   "metadata": {},
   "outputs": [],
   "source": [
    "df['news'] = df['news'].map(flatten).map(removeCharacs)\n"
   ]
  },
  {
   "cell_type": "code",
   "execution_count": 254,
   "metadata": {},
   "outputs": [],
   "source": [
    "def stem_text_cat2(text):\n",
    "    return re.sub('(मा|को|ले|बाट|का|हरु|हरुसँग|सँग|लाई|हरू|हरूसँग|हरू)','',text)\n",
    "allwords = open(\"dict.txt\").read().splitlines()\n",
    "suffixes = ('ी' , 'ीया' ,  'ीय' ,'े' , 'नु' , 'दै' , 'ेको' , 'ै')\n",
    "def stem_text_cat1(word):\n",
    "    if word.endswith(suffixes):\n",
    "        wordlist =  [word.rstrip(x) for x in suffixes]\n",
    "        for i in wordlist:\n",
    "            if i!= word:\n",
    "                if i in allwords:\n",
    "                    return i\n",
    "                    \n",
    "        \n",
    "    return word\n",
    "    "
   ]
  },
  {
   "cell_type": "code",
   "execution_count": 255,
   "metadata": {},
   "outputs": [],
   "source": [
    "def stemming(text):\n",
    "    text =  ' '.join([stem_text_cat1(a) for a in word_tokenize(text)])\n",
    "    return ' '.join([stem_text_cat2(a) for a in word_tokenize(text)])\n",
    "    \n"
   ]
  },
  {
   "cell_type": "code",
   "execution_count": 256,
   "metadata": {},
   "outputs": [],
   "source": [
    "df['news'] = df['news'].map(stemming)"
   ]
  },
  {
   "cell_type": "code",
   "execution_count": 257,
   "metadata": {},
   "outputs": [],
   "source": [
    "def sent_tokenize(text):\n",
    "    sentence = [x for x in text.split('।')] \n",
    "    return sentence\n",
    "df['news-ws']=df['news'].map(sent_tokenize)"
   ]
  },
  {
   "cell_type": "code",
   "execution_count": 258,
   "metadata": {},
   "outputs": [],
   "source": [
    "def check(x):\n",
    "    try:\n",
    "        if isinstance(float(x), float):\n",
    "            return False\n",
    "    except:\n",
    "        return True\n"
   ]
  },
  {
   "cell_type": "code",
   "execution_count": 259,
   "metadata": {},
   "outputs": [],
   "source": [
    "# function to remove stopwords\n",
    "def remove_stopword(sen):\n",
    "    sen_new = \" \".join([i for i in sen if i not in stopwords and check(i)])\n",
    "    return sen_new\n",
    "remove_stopwords = lambda sent : [remove_stopword(r.split()) for r in sent]\n"
   ]
  },
  {
   "cell_type": "code",
   "execution_count": 260,
   "metadata": {},
   "outputs": [],
   "source": [
    "df['news-ws'] = df['news-ws'].map(remove_stopwords)"
   ]
  },
  {
   "cell_type": "code",
   "execution_count": 261,
   "metadata": {},
   "outputs": [
    {
     "data": {
      "text/plain": [
       "['विश्व नम्वर वान टेक कम्पनी एप्पल निस प्रमुख र्यरी अधिकृत सिइओ पाउन तलब भत्ता चानचुने कुरै',\n",
       " 'त्यसै एप्पल वर्तन सिइओ टिम कुक गत वर्ष सन् अर्ब रुपैयाँ बढि वाषिर्क तलबभत्ता बुझे',\n",
       " 'अघिल्लो वर्ष तुलना सन् कुक तलब भत्ता प्रतिशत वृद्धि',\n",
       " 'उन वर्ष एप्पल करोड डलर रकम बुझे',\n",
       " 'कुक आधारभुत बेतन गत वर्ष प्रतिशत करोड रुपैयाँ वृद्धि नन इक्विटी इन्सेन्टिभ प्रतिशत वृद्धि करोड रुपैयाँ पुगे',\n",
       " 'यतिधेरै तलब भत्ता थाप्न कुक एप्पल एकत्र कर्मचारी होलान् कर्मचारी तलब उन निक भन्न सोँच्नुहोला',\n",
       " 'अचम्म एप्पल उच्च पदस्थ र्यरीमध्ये कुक पाए तलब भत्ता सबैभन्दा',\n",
       " 'कम्पनी प्रमुख वित्तिय अधिकृत लू वाषिर्क तलब प्रतिशत वृद्धि उन गत वर्ष अढाइ अर्ब रुपैयाँ बढि तलब भत्ता बुझे',\n",
       " 'रिटेल एण्ड अनलाइन स्टोर वरिष्ठ उपाध्यक्ष एन्जेला गत वर्ष एप्पल सबैभन्दा बढि तलब भत्ता बुझ्ने कर्मचारी',\n",
       " 'उन गत वर्ष उन अर्ब करोड रुपैयाँ बढि तलब भत्ता बुझेकी छिन्',\n",
       " 'गत वर्ष सन् एप्पलल बिक्रि प्रतिशत बढ्यो मुनाफा प्रतिशत बढे बताइए',\n",
       " 'सन् यता पहिलोपटक एप्पलल शेयर मूल्य गिरावट',\n",
       " '']"
      ]
     },
     "execution_count": 261,
     "metadata": {},
     "output_type": "execute_result"
    }
   ],
   "source": [
    "df['news-ws'][0]"
   ]
  },
  {
   "cell_type": "code",
   "execution_count": 262,
   "metadata": {},
   "outputs": [],
   "source": [
    "from nltk import word_tokenize"
   ]
  },
  {
   "cell_type": "code",
   "execution_count": 263,
   "metadata": {},
   "outputs": [
    {
     "data": {
      "text/plain": [
       "['',\n",
       " 'थाप्न',\n",
       " 'एप्पल',\n",
       " 'डलर',\n",
       " 'एकत्र',\n",
       " 'अचम्म',\n",
       " 'एण्ड',\n",
       " 'वृद्धि',\n",
       " 'कम्पनी',\n",
       " 'उच्च',\n",
       " 'र्यरी',\n",
       " 'सिइओ',\n",
       " 'उन',\n",
       " 'अघिल्लो',\n",
       " 'वान',\n",
       " 'त्यसै',\n",
       " 'आधारभुत',\n",
       " 'विश्व',\n",
       " 'निक',\n",
       " 'कुरै',\n",
       " 'भत्ता',\n",
       " 'वर्ष',\n",
       " 'रुपैयाँ',\n",
       " 'सोँच्नुहोला',\n",
       " 'अढाइ',\n",
       " 'बुझ्ने',\n",
       " 'चानचुने',\n",
       " 'यतिधेरै',\n",
       " 'रिटेल',\n",
       " 'वित्तिय',\n",
       " 'उपाध्यक्ष',\n",
       " 'बेतन',\n",
       " 'बिक्रि',\n",
       " 'गिरावट',\n",
       " 'रकम',\n",
       " 'एन्जेला',\n",
       " 'लू',\n",
       " 'बुझे',\n",
       " 'पहिलोपटक',\n",
       " 'यता',\n",
       " 'तलब',\n",
       " 'करोड',\n",
       " 'सन्',\n",
       " 'कर्मचारी',\n",
       " 'एप्पलल',\n",
       " 'बढ्यो',\n",
       " 'अधिकृत',\n",
       " 'प्रमुख',\n",
       " 'निस',\n",
       " 'नन',\n",
       " 'होलान्',\n",
       " 'र्यरीमध्ये',\n",
       " 'अनलाइन',\n",
       " 'पाए',\n",
       " 'अर्ब',\n",
       " 'तलबभत्ता',\n",
       " 'नम्वर',\n",
       " 'टेक',\n",
       " 'तुलना',\n",
       " 'बुझेकी',\n",
       " 'कुक',\n",
       " 'सबैभन्दा',\n",
       " 'वरिष्ठ',\n",
       " 'पुगे',\n",
       " 'गत',\n",
       " 'मुनाफा',\n",
       " 'बढे',\n",
       " 'शेयर',\n",
       " 'मूल्य',\n",
       " 'इक्विटी',\n",
       " 'पदस्थ',\n",
       " 'इन्सेन्टिभ',\n",
       " 'भन्न',\n",
       " 'पाउन',\n",
       " 'वर्तन',\n",
       " 'प्रतिशत',\n",
       " 'बढि',\n",
       " 'स्टोर',\n",
       " 'छिन्',\n",
       " 'बताइए',\n",
       " 'वाषिर्क',\n",
       " 'टिम']"
      ]
     },
     "execution_count": 263,
     "metadata": {},
     "output_type": "execute_result"
    }
   ],
   "source": [
    "vocab = set([x for x in ' '.join(df['news-ws'][0]).split(' ') ])\n",
    "vocab = list(vocab)\n",
    "vocab"
   ]
  },
  {
   "cell_type": "code",
   "execution_count": 291,
   "metadata": {},
   "outputs": [],
   "source": [
    "document = [checkNum((word_tokenize(x))) for x in df['news-ws'][0]]\n"
   ]
  },
  {
   "cell_type": "code",
   "execution_count": 295,
   "metadata": {},
   "outputs": [
    {
     "data": {
      "text/plain": [
       "\"\\n# Print the matrix:\\nprint(' ', ' '.join(occurrences.keys()))\\nfor name, values in occurrences.items():\\n    print(name, ' '.join(str(i) for i in values.values()))\""
      ]
     },
     "execution_count": 295,
     "metadata": {},
     "output_type": "execute_result"
    }
   ],
   "source": [
    "from collections import OrderedDict\n",
    "names = vocab\n",
    "occurrences = OrderedDict((name, OrderedDict((name, 0) for name in names)) for name in names)\n",
    "\n",
    "# Find the co-occurrences:\n",
    "for l in document:\n",
    "    for i in range(len(l)):\n",
    "        for item in l[:i] + l[i + 1:]:\n",
    "            occurrences[l[i]][item] += 1\n",
    "'''\n",
    "# Print the matrix:\n",
    "print(' ', ' '.join(occurrences.keys()))\n",
    "for name, values in occurrences.items():\n",
    "    print(name, ' '.join(str(i) for i in values.values()))'''"
   ]
  },
  {
   "cell_type": "code",
   "execution_count": 267,
   "metadata": {},
   "outputs": [],
   "source": [
    "rows = ['deg','freq','deg/freq']\n",
    "word_scores = OrderedDict((name, OrderedDict((r, 0) for r in rows)) for name in names)"
   ]
  },
  {
   "cell_type": "code",
   "execution_count": 268,
   "metadata": {},
   "outputs": [],
   "source": [
    "for key in word_scores.keys():\n",
    "    word_scores[key]['deg'] = sum(occurrences[key].values())\n",
    "    word_scores[key]['freq'] = len([x for x in occurrences[key].values() if x!=0])\n",
    "    if word_scores[key]['freq']!=0:\n",
    "        word_scores[key]['deg/freq'] = word_scores[key]['deg']/word_scores[key]['freq']\n",
    "    else:\n",
    "        word_scores[key]['deg/freq']= 0"
   ]
  },
  {
   "cell_type": "code",
   "execution_count": null,
   "metadata": {},
   "outputs": [],
   "source": []
  },
  {
   "cell_type": "code",
   "execution_count": 280,
   "metadata": {},
   "outputs": [],
   "source": [
    "def checkMe(x):\n",
    "    try:\n",
    "        if isinstance(float(x), float):\n",
    "            return True\n",
    "    except:\n",
    "        return False\n"
   ]
  },
  {
   "cell_type": "code",
   "execution_count": 281,
   "metadata": {},
   "outputs": [],
   "source": [
    "def findCandidates(text):\n",
    "    clusters=[]\n",
    "    word1=[]\n",
    "    for word in word_tokenize(text):\n",
    "        if (word in stopwords) or checkMe(word):\n",
    "            clusters.append(word1)\n",
    "            word1 =[]\n",
    "            continue\n",
    "        else:\n",
    "            word1.append(word)\n",
    "    return [' '.join(a).replace('।','') for a in clusters if len(a)>1]        "
   ]
  },
  {
   "cell_type": "code",
   "execution_count": 282,
   "metadata": {},
   "outputs": [],
   "source": [
    "df['kW-candidates'] = df['news'].map(findCandidates)"
   ]
  },
  {
   "cell_type": "code",
   "execution_count": null,
   "metadata": {},
   "outputs": [],
   "source": []
  },
  {
   "cell_type": "code",
   "execution_count": 284,
   "metadata": {},
   "outputs": [
    {
     "data": {
      "text/plain": [
       "['विश्व नम्वर वान टेक कम्पनी एप्पल',\n",
       " 'प्रमुख र्यरी अधिकृत सिइओ पाउन तलब भत्ता चानचुने',\n",
       " ' त्यसै एप्पल वर्तन सिइओ टिम कुक गत वर्ष सन्',\n",
       " 'अर्ब रुपैयाँ',\n",
       " 'बढि वाषिर्क तलबभत्ता बुझे',\n",
       " ' अघिल्लो वर्ष तुलना सन्',\n",
       " 'कुक तलब भत्ता',\n",
       " 'प्रतिशत वृद्धि',\n",
       " 'वर्ष एप्पल',\n",
       " 'डलर रकम बुझे',\n",
       " ' कुक आधारभुत बेतन गत वर्ष',\n",
       " 'करोड रुपैयाँ वृद्धि',\n",
       " 'नन इक्विटी इन्सेन्टिभ',\n",
       " 'प्रतिशत वृद्धि',\n",
       " 'करोड रुपैयाँ पुगे',\n",
       " 'यतिधेरै तलब भत्ता थाप्न कुक एप्पल एकत्र कर्मचारी होलान्',\n",
       " 'कर्मचारी तलब उन',\n",
       " 'भन्न सोँच्नुहोला ',\n",
       " 'एप्पल उच्च पदस्थ र्यरीमध्ये कुक पाए तलब भत्ता सबैभन्दा',\n",
       " ' कम्पनी प्रमुख वित्तिय अधिकृत लू वाषिर्क तलब',\n",
       " 'प्रतिशत वृद्धि',\n",
       " 'उन गत वर्ष अढाइ अर्ब रुपैयाँ',\n",
       " 'बढि तलब भत्ता बुझे',\n",
       " ' रिटेल एण्ड अनलाइन स्टोर वरिष्ठ उपाध्यक्ष एन्जेला गत वर्ष एप्पल सबैभन्दा बढि तलब भत्ता बुझ्ने कर्मचारी',\n",
       " ' उन गत वर्ष उन',\n",
       " 'करोड रुपैयाँ',\n",
       " 'बढि तलब भत्ता बुझेकी छिन्  गत वर्ष सन्',\n",
       " 'एप्पलल बिक्रि',\n",
       " 'प्रतिशत बढ्यो',\n",
       " 'प्रतिशत बढे बताइए',\n",
       " 'यता पहिलोपटक एप्पलल शेयर मूल्य']"
      ]
     },
     "execution_count": 284,
     "metadata": {},
     "output_type": "execute_result"
    }
   ],
   "source": [
    "df['kW-candidates'][0]"
   ]
  },
  {
   "cell_type": "code",
   "execution_count": 287,
   "metadata": {},
   "outputs": [],
   "source": [
    "scoredCandidates = []\n",
    "for sent in df['kW-candidates'][0]:\n",
    "    sumis=0\n",
    "    for word in word_tokenize(sent):\n",
    "        sumis += word_scores[word]['deg/freq']\n",
    "    scoredCandidates.append((sent,sumis/len(word_tokenize(sent))))"
   ]
  },
  {
   "cell_type": "code",
   "execution_count": 296,
   "metadata": {},
   "outputs": [
    {
     "data": {
      "text/plain": [
       "[('प्रतिशत वृद्धि', 2.1142857142857143),\n",
       " ('करोड रुपैयाँ', 2.0922619047619047),\n",
       " ('करोड रुपैयाँ वृद्धि', 2.0615079365079363),\n",
       " ('कर्मचारी तलब उन', 1.880543364681296),\n",
       " ('अर्ब रुपैयाँ', 1.8392857142857144),\n",
       " ('करोड रुपैयाँ पुगे', 1.8392857142857142),\n",
       " (' उन गत वर्ष उन', 1.7827946127946128),\n",
       " ('कुक तलब भत्ता', 1.7115921988880245),\n",
       " ('उन गत वर्ष अढाइ अर्ब रुपैयाँ', 1.6750652651633045),\n",
       " ('प्रतिशत बढ्यो', 1.66984126984127),\n",
       " ('बढि तलब भत्ता बुझे', 1.6414635727249158),\n",
       " ('वर्ष एप्पल', 1.5833333333333335),\n",
       " (' कुक आधारभुत बेतन गत वर्ष', 1.5227724867724866),\n",
       " ('बढि तलब भत्ता बुझेकी छिन्  गत वर्ष सन्', 1.5161665875230654),\n",
       " ('प्रतिशत बढे बताइए', 1.4835978835978836),\n",
       " ('यतिधेरै तलब भत्ता थाप्न कुक एप्पल एकत्र कर्मचारी होलान्',\n",
       "  1.430366123909177),\n",
       " ('नन इक्विटी इन्सेन्टिभ', 1.3333333333333333),\n",
       " (' रिटेल एण्ड अनलाइन स्टोर वरिष्ठ उपाध्यक्ष एन्जेला गत वर्ष एप्पल सबैभन्दा बढि तलब भत्ता बुझ्ने कर्मचारी',\n",
       "  1.3073897027050383),\n",
       " ('एप्पल उच्च पदस्थ र्यरीमध्ये कुक पाए तलब भत्ता सबैभन्दा',\n",
       "  1.2921650657081187),\n",
       " (' कम्पनी प्रमुख वित्तिय अधिकृत लू वाषिर्क तलब', 1.290972802914269),\n",
       " ('बढि वाषिर्क तलबभत्ता बुझे', 1.2908646616541355),\n",
       " (' त्यसै एप्पल वर्तन सिइओ टिम कुक गत वर्ष सन्', 1.2845075951527565),\n",
       " (' अघिल्लो वर्ष तुलना सन्', 1.2601553166069295),\n",
       " ('प्रमुख र्यरी अधिकृत सिइओ पाउन तलब भत्ता चानचुने', 1.259406598392533),\n",
       " ('भन्न सोँच्नुहोला ', 1.1666666666666667),\n",
       " ('एप्पलल बिक्रि', 1.126984126984127),\n",
       " ('डलर रकम बुझे', 1.119047619047619),\n",
       " ('विश्व नम्वर वान टेक कम्पनी एप्पल', 1.088403880070547),\n",
       " ('यता पहिलोपटक एप्पलल शेयर मूल्य', 1.0285714285714285)]"
      ]
     },
     "execution_count": 296,
     "metadata": {},
     "output_type": "execute_result"
    }
   ],
   "source": [
    "sorted(list(set(scoredCandidates)), key = lambda x : x[1],reverse=True)"
   ]
  },
  {
   "cell_type": "code",
   "execution_count": null,
   "metadata": {},
   "outputs": [],
   "source": []
  }
 ],
 "metadata": {
  "kernelspec": {
   "display_name": "Python 3",
   "language": "python",
   "name": "python3"
  },
  "language_info": {
   "codemirror_mode": {
    "name": "ipython",
    "version": 3
   },
   "file_extension": ".py",
   "mimetype": "text/x-python",
   "name": "python",
   "nbconvert_exporter": "python",
   "pygments_lexer": "ipython3",
   "version": "3.6.6"
  }
 },
 "nbformat": 4,
 "nbformat_minor": 2
}
