{
 "cells": [
  {
   "cell_type": "code",
   "execution_count": 351,
   "metadata": {},
   "outputs": [],
   "source": [
    "from sklearn.feature_extraction.text import CountVectorizer\n",
    "docs = ['this this this book',\n",
    "        'this cat good',\n",
    "        'cat good shit']"
   ]
  },
  {
   "cell_type": "code",
   "execution_count": 352,
   "metadata": {},
   "outputs": [],
   "source": [
    "def count(docs):\n",
    "    count_model = CountVectorizer(ngram_range=(1,1))\n",
    "    X = count_model.fit_transform(docs)\n",
    "    Xc = (X.T * X)\n",
    "    print (Xc.shape)\n",
    "    print(count_model.get_feature_names())\n",
    "    print(Xc.todense())\n",
    "    \n",
    "    "
   ]
  },
  {
   "cell_type": "code",
   "execution_count": 353,
   "metadata": {},
   "outputs": [],
   "source": [
    "count_model = CountVectorizer(ngram_range=(1,1))"
   ]
  },
  {
   "cell_type": "code",
   "execution_count": 354,
   "metadata": {},
   "outputs": [
    {
     "name": "stdout",
     "output_type": "stream",
     "text": [
      "[[ 1  0  0  0  3]\n",
      " [ 0  2  2  1  1]\n",
      " [ 0  2  2  1  1]\n",
      " [ 0  1  1  1  0]\n",
      " [ 3  1  1  0 10]]\n"
     ]
    }
   ],
   "source": [
    "X = count_model.fit_transform(docs)\n",
    "Xc = (X.T * X)\n",
    "print(Xc.todense())"
   ]
  },
  {
   "cell_type": "code",
   "execution_count": 355,
   "metadata": {},
   "outputs": [],
   "source": [
    "import re\n",
    "trails = ['Ram','1','shyam','hari']\n",
    "\n",
    "# \\b means word boundaries.\n",
    "regex = r\"\\b(?:{})\\b\".format(\"|\".join(trails))\n",
    "\n",
    "s = \"Ram is number 1 than hari\"\n",
    "\n",
    "res = re.split(regex, s)"
   ]
  },
  {
   "cell_type": "code",
   "execution_count": 356,
   "metadata": {},
   "outputs": [
    {
     "name": "stdout",
     "output_type": "stream",
     "text": [
      "['', ' is number ', ' than ', '']\n"
     ]
    }
   ],
   "source": [
    "print(res)"
   ]
  },
  {
   "cell_type": "code",
   "execution_count": 369,
   "metadata": {},
   "outputs": [],
   "source": [
    "import os\n",
    "import stopwords\n",
    "import re\n",
    "import pandas as pd\n",
    "import nltk\n",
    "from nltk import word_tokenize\n",
    "stopwords = open(\"stopwords.txt\").read().splitlines()\n",
    "def loadData(loc):\n",
    "        BASEDIR=os.path.dirname(os.path.realpath('__file__'))\n",
    "        df=pd.read_csv(BASEDIR+loc,names=[\"headline\",\"news\"])\n",
    "        return df\n"
   ]
  },
  {
   "cell_type": "code",
   "execution_count": 370,
   "metadata": {},
   "outputs": [],
   "source": [
    "import numpy as np"
   ]
  },
  {
   "cell_type": "code",
   "execution_count": 371,
   "metadata": {},
   "outputs": [],
   "source": [
    "df=loadData(\"/dataset/onlineKhabar.csv\")\n",
    "REPLACE_BY_SPACE_RE = re.compile('[?!/(){}\\[\\]\\|@,;\\'\\']')\n",
    "def removeCharacs(text):\n",
    "    text=re.sub(REPLACE_BY_SPACE_RE,' ',text)# replace REPLACE_BY_SPACE_RE symbols by space in text\n",
    "    return text"
   ]
  },
  {
   "cell_type": "code",
   "execution_count": 372,
   "metadata": {},
   "outputs": [],
   "source": [
    "flatten = lambda x : ''.join(x.split('\\','))"
   ]
  },
  {
   "cell_type": "code",
   "execution_count": 373,
   "metadata": {},
   "outputs": [],
   "source": [
    "df['news'] = df['news'].map(flatten).map(removeCharacs)\n"
   ]
  },
  {
   "cell_type": "code",
   "execution_count": 374,
   "metadata": {},
   "outputs": [],
   "source": [
    "def stem_text_cat2(text):\n",
    "    return re.sub('(मा|को|ले|बाट|का|हरु|हरुसँग|सँग|लाई|हरू|हरूसँग|हरू|पटक)','',text)\n",
    "allwords = open(\"dict.txt\").read().splitlines()\n",
    "suffixes = ('ी' , 'ीया' ,  'ीय' ,'े' , 'नु' , 'दै' , 'ेको' , 'ै')\n",
    "def stem_text_cat1(word):\n",
    "    if word.endswith(suffixes):\n",
    "        wordlist =  [word.rstrip(x) for x in suffixes]\n",
    "        for i in wordlist:\n",
    "            if i!= word:\n",
    "                if i in allwords:\n",
    "                    return i\n",
    "                    \n",
    "        \n",
    "    return word\n",
    "    "
   ]
  },
  {
   "cell_type": "code",
   "execution_count": 375,
   "metadata": {},
   "outputs": [],
   "source": [
    "def stemming(text):\n",
    "    text =  ' '.join([stem_text_cat1(a) for a in word_tokenize(text)])\n",
    "    return ' '.join([stem_text_cat2(a) for a in word_tokenize(text)])\n",
    "    \n"
   ]
  },
  {
   "cell_type": "code",
   "execution_count": 376,
   "metadata": {},
   "outputs": [],
   "source": [
    "df['news'] = df['news'].map(stemming)"
   ]
  },
  {
   "cell_type": "code",
   "execution_count": 377,
   "metadata": {},
   "outputs": [],
   "source": [
    "def sent_tokenize(text):\n",
    "    sentence = [x for x in text.split('।')] \n",
    "    return sentence\n",
    "df['news-ws']=df['news'].map(sent_tokenize)"
   ]
  },
  {
   "cell_type": "code",
   "execution_count": 378,
   "metadata": {},
   "outputs": [],
   "source": [
    "def check(x):\n",
    "    try:\n",
    "        if isinstance(float(x), float):\n",
    "            return False\n",
    "    except:\n",
    "        return True\n"
   ]
  },
  {
   "cell_type": "code",
   "execution_count": 379,
   "metadata": {},
   "outputs": [],
   "source": [
    "# function to remove stopwords\n",
    "def remove_stopword(sen):\n",
    "    sen_new = \" \".join([i for i in sen if i not in stopwords and check(i)])\n",
    "    return sen_new\n",
    "remove_stopwords = lambda sent : [remove_stopword(r.split()) for r in sent]\n"
   ]
  },
  {
   "cell_type": "code",
   "execution_count": 380,
   "metadata": {},
   "outputs": [],
   "source": [
    "df['news-ws'] = df['news-ws'].map(remove_stopwords)"
   ]
  },
  {
   "cell_type": "code",
   "execution_count": 381,
   "metadata": {},
   "outputs": [
    {
     "data": {
      "text/plain": [
       "['विश्व नम्वर वान टेक कम्पनी एप्पल निस प्रमुख र्यरी अधिकृत सिइओ पाउन तलब भत्ता चानचुने कुरै',\n",
       " 'त्यसै एप्पल वर्तन सिइओ टिम कुक गत वर्ष सन् अर्ब रुपैयाँ बढि वाषिर्क तलबभत्ता बुझे',\n",
       " 'अघिल्लो वर्ष तुलना सन् कुक तलब भत्ता प्रतिशत वृद्धि',\n",
       " 'उन वर्ष एप्पल करोड डलर रकम बुझे',\n",
       " 'कुक आधारभुत बेतन गत वर्ष प्रतिशत करोड रुपैयाँ वृद्धि नन इक्विटी इन्सेन्टिभ प्रतिशत वृद्धि करोड रुपैयाँ पुगे',\n",
       " 'यतिधेरै तलब भत्ता थाप्न कुक एप्पल एकत्र कर्मचारी होलान् कर्मचारी तलब उन निक भन्न सोँच्नुहोला',\n",
       " 'अचम्म एप्पल उच्च पदस्थ र्यरीमध्ये कुक पाए तलब भत्ता सबैभन्दा',\n",
       " 'कम्पनी प्रमुख वित्तिय अधिकृत लू वाषिर्क तलब प्रतिशत वृद्धि उन गत वर्ष अढाइ अर्ब रुपैयाँ बढि तलब भत्ता बुझे',\n",
       " 'रिटेल एण्ड अनलाइन स्टोर वरिष्ठ उपाध्यक्ष एन्जेला गत वर्ष एप्पल सबैभन्दा बढि तलब भत्ता बुझ्ने कर्मचारी',\n",
       " 'उन गत वर्ष उन अर्ब करोड रुपैयाँ बढि तलब भत्ता बुझेकी छिन्',\n",
       " 'गत वर्ष सन् एप्पलल बिक्रि प्रतिशत बढ्यो मुनाफा प्रतिशत बढे बताइए',\n",
       " 'सन् यता एप्पलल शेयर मूल्य गिरावट',\n",
       " '']"
      ]
     },
     "execution_count": 381,
     "metadata": {},
     "output_type": "execute_result"
    }
   ],
   "source": [
    "df['news-ws'][0]"
   ]
  },
  {
   "cell_type": "code",
   "execution_count": 382,
   "metadata": {},
   "outputs": [],
   "source": [
    "from nltk import word_tokenize"
   ]
  },
  {
   "cell_type": "code",
   "execution_count": 383,
   "metadata": {},
   "outputs": [
    {
     "data": {
      "text/plain": [
       "['',\n",
       " 'अर्',\n",
       " 'क्यामरा',\n",
       " 'प्रयोग',\n",
       " 'तोकिए',\n",
       " 'किटक्याट',\n",
       " 'बाँकी',\n",
       " 'दी',\n",
       " 'सर्',\n",
       " 'ओ',\n",
       " 'सिगरेट',\n",
       " 'नाम',\n",
       " 'तलपटि्ट',\n",
       " 'प्रेरित',\n",
       " 'निर्ता',\n",
       " 'अपरेटिंग',\n",
       " 'भर्ज',\n",
       " 'अलर्ट',\n",
       " 'खाल',\n",
       " 'सबैभन्दा',\n",
       " 'वेपरकेड',\n",
       " 'भन्न',\n",
       " 'ल्याउन',\n",
       " 'लिए',\n",
       " 'ठिहा',\n",
       " 'डलर',\n",
       " 'सिस्टम',\n",
       " 'तयार',\n",
       " 'विश्व',\n",
       " 'जस',\n",
       " 'लत',\n",
       " 'इ',\n",
       " 'गराउँछ',\n",
       " 'की',\n",
       " 'बढ्न',\n",
       " 'आइ',\n",
       " 'रहे',\n",
       " 'स्र्टफोन',\n",
       " 'बनिरहे',\n",
       " 'धुम्रपान',\n",
       " 'विषय',\n",
       " 'चुरोट',\n",
       " 'निस',\n",
       " 'लक्ष्य',\n",
       " 'तपाइँ',\n",
       " 'सिगार',\n",
       " 'तय',\n",
       " 'उपयोग',\n",
       " 'आउन',\n",
       " 'छोडाउन',\n",
       " 'थि',\n",
       " 'व्यापार',\n",
       " 'गर्दछ',\n",
       " 'सहयोगी',\n",
       " 'छिटै',\n",
       " 'प्लास्टिक',\n",
       " 'कम्पनी',\n",
       " 'ग्याजेट',\n",
       " 'निक',\n",
       " 'दिन्छ',\n",
       " 'ब्याट्री',\n",
       " 'पिउन',\n",
       " 'प्वाल',\n",
       " 'स्वाद',\n",
       " 'त्र',\n",
       " 'समयै',\n",
       " 'वास्तव',\n",
       " 'फिचर्स',\n",
       " 'यहीँ',\n",
       " 'अनौठो',\n",
       " 'सक्नुहुन्छ',\n",
       " 'महंगो',\n",
       " 'रिपोर्ट',\n",
       " 'जुपिटर',\n",
       " 'सकिन्छ',\n",
       " 'वासना',\n",
       " 'फ्लासयुक्त',\n",
       " 'मूल्य',\n",
       " 'चलिरहे',\n",
       " 'अमेरिकी',\n",
       " 'क्रम',\n",
       " 'चार्ज',\n",
       " 'बढि',\n",
       " 'बजार',\n",
       " 'लिन',\n",
       " 'ल्याए',\n",
       " 'त्रै',\n",
       " 'जी',\n",
       " 'झोल',\n",
       " 'मेलो',\n",
       " 'धुमपान',\n",
       " 'फोर',\n",
       " 'फोन',\n",
       " 'गरिरहे',\n",
       " 'सकिनेछ',\n",
       " 'त्याग्ने',\n",
       " 'दाबी',\n",
       " 'एप',\n",
       " 'थ्री',\n",
       " 'कफी',\n",
       " 'भैसक्यो',\n",
       " 'दुनिया',\n",
       " 'अत्याधुनिक',\n",
       " 'हार्डवेयर',\n",
       " 'क्षमता',\n",
       " 'कभर',\n",
       " 'जानरी',\n",
       " 'ोतर्फ',\n",
       " 'रुप',\n",
       " 'सकिँदा',\n",
       " 'सिगरेटयुक्त']"
      ]
     },
     "execution_count": 383,
     "metadata": {},
     "output_type": "execute_result"
    }
   ],
   "source": [
    "vocab = set([x for x in ' '.join(df['news-ws'][2]).split(' ') ])\n",
    "vocab = list(vocab)\n",
    "vocab"
   ]
  },
  {
   "cell_type": "code",
   "execution_count": 387,
   "metadata": {},
   "outputs": [],
   "source": [
    "document = [checkNum((word_tokenize(x))) for x in df['kW-candidates'][2]]"
   ]
  },
  {
   "cell_type": "code",
   "execution_count": 388,
   "metadata": {},
   "outputs": [
    {
     "data": {
      "text/plain": [
       "\"\\n# Print the matrix:\\nprint(' ', ' '.join(occurrences.keys()))\\nfor name, values in occurrences.items():\\n    print(name, ' '.join(str(i) for i in values.values()))\""
      ]
     },
     "execution_count": 388,
     "metadata": {},
     "output_type": "execute_result"
    }
   ],
   "source": [
    "from collections import OrderedDict\n",
    "names = vocab\n",
    "occurrences = OrderedDict((name, OrderedDict((name, 0) for name in names)) for name in names)\n",
    "\n",
    "# Find the co-occurrences:\n",
    "for l in document:\n",
    "    for i in range(len(l)):\n",
    "        for item in l[:i] + l[i + 1:]:\n",
    "            occurrences[l[i]][item] += 1\n",
    "'''\n",
    "# Print the matrix:\n",
    "print(' ', ' '.join(occurrences.keys()))\n",
    "for name, values in occurrences.items():\n",
    "    print(name, ' '.join(str(i) for i in values.values()))'''"
   ]
  },
  {
   "cell_type": "code",
   "execution_count": 389,
   "metadata": {},
   "outputs": [],
   "source": [
    "rows = ['deg','freq','deg/freq']\n",
    "word_scores = OrderedDict((name, OrderedDict((r, 0) for r in rows)) for name in names)"
   ]
  },
  {
   "cell_type": "code",
   "execution_count": 390,
   "metadata": {},
   "outputs": [],
   "source": [
    "for key in word_scores.keys():\n",
    "    word_scores[key]['deg'] = sum(occurrences[key].values())\n",
    "    word_scores[key]['freq'] = len([x for x in occurrences[key].values() if x!=0])\n",
    "    if word_scores[key]['freq']!=0:\n",
    "        word_scores[key]['deg/freq'] = word_scores[key]['deg']/word_scores[key]['freq']\n",
    "    else:\n",
    "        word_scores[key]['deg/freq']= 0"
   ]
  },
  {
   "cell_type": "code",
   "execution_count": 391,
   "metadata": {},
   "outputs": [
    {
     "data": {
      "text/plain": [
       "OrderedDict([('', OrderedDict([('deg', 0), ('freq', 0), ('deg/freq', 0)])),\n",
       "             ('अर्',\n",
       "              OrderedDict([('deg', 8),\n",
       "                           ('freq', 7),\n",
       "                           ('deg/freq', 1.1428571428571428)])),\n",
       "             ('क्यामरा',\n",
       "              OrderedDict([('deg', 3), ('freq', 3), ('deg/freq', 1.0)])),\n",
       "             ('प्रयोग',\n",
       "              OrderedDict([('deg', 2), ('freq', 2), ('deg/freq', 1.0)])),\n",
       "             ('तोकिए',\n",
       "              OrderedDict([('deg', 1), ('freq', 1), ('deg/freq', 1.0)])),\n",
       "             ('किटक्याट',\n",
       "              OrderedDict([('deg', 0), ('freq', 0), ('deg/freq', 0)])),\n",
       "             ('बाँकी',\n",
       "              OrderedDict([('deg', 1), ('freq', 1), ('deg/freq', 1.0)])),\n",
       "             ('दी', OrderedDict([('deg', 2), ('freq', 2), ('deg/freq', 1.0)])),\n",
       "             ('सर्',\n",
       "              OrderedDict([('deg', 15),\n",
       "                           ('freq', 14),\n",
       "                           ('deg/freq', 1.0714285714285714)])),\n",
       "             ('ओ', OrderedDict([('deg', 4), ('freq', 4), ('deg/freq', 1.0)])),\n",
       "             ('सिगरेट',\n",
       "              OrderedDict([('deg', 26),\n",
       "                           ('freq', 21),\n",
       "                           ('deg/freq', 1.2380952380952381)])),\n",
       "             ('नाम',\n",
       "              OrderedDict([('deg', 4), ('freq', 4), ('deg/freq', 1.0)])),\n",
       "             ('तलपटि्ट',\n",
       "              OrderedDict([('deg', 1), ('freq', 1), ('deg/freq', 1.0)])),\n",
       "             ('प्रेरित',\n",
       "              OrderedDict([('deg', 15),\n",
       "                           ('freq', 14),\n",
       "                           ('deg/freq', 1.0714285714285714)])),\n",
       "             ('निर्ता',\n",
       "              OrderedDict([('deg', 4), ('freq', 4), ('deg/freq', 1.0)])),\n",
       "             ('अपरेटिंग',\n",
       "              OrderedDict([('deg', 2), ('freq', 2), ('deg/freq', 1.0)])),\n",
       "             ('भर्ज',\n",
       "              OrderedDict([('deg', 2), ('freq', 2), ('deg/freq', 1.0)])),\n",
       "             ('अलर्ट',\n",
       "              OrderedDict([('deg', 15),\n",
       "                           ('freq', 14),\n",
       "                           ('deg/freq', 1.0714285714285714)])),\n",
       "             ('खाल',\n",
       "              OrderedDict([('deg', 7), ('freq', 7), ('deg/freq', 1.0)])),\n",
       "             ('सबैभन्दा',\n",
       "              OrderedDict([('deg', 3), ('freq', 3), ('deg/freq', 1.0)])),\n",
       "             ('वेपरकेड',\n",
       "              OrderedDict([('deg', 20),\n",
       "                           ('freq', 17),\n",
       "                           ('deg/freq', 1.1764705882352942)])),\n",
       "             ('भन्न',\n",
       "              OrderedDict([('deg', 2), ('freq', 2), ('deg/freq', 1.0)])),\n",
       "             ('ल्याउन',\n",
       "              OrderedDict([('deg', 9), ('freq', 8), ('deg/freq', 1.125)])),\n",
       "             ('लिए',\n",
       "              OrderedDict([('deg', 15),\n",
       "                           ('freq', 14),\n",
       "                           ('deg/freq', 1.0714285714285714)])),\n",
       "             ('ठिहा',\n",
       "              OrderedDict([('deg', 3), ('freq', 3), ('deg/freq', 1.0)])),\n",
       "             ('डलर',\n",
       "              OrderedDict([('deg', 5), ('freq', 5), ('deg/freq', 1.0)])),\n",
       "             ('सिस्टम',\n",
       "              OrderedDict([('deg', 2), ('freq', 2), ('deg/freq', 1.0)])),\n",
       "             ('तयार',\n",
       "              OrderedDict([('deg', 3), ('freq', 3), ('deg/freq', 1.0)])),\n",
       "             ('विश्व',\n",
       "              OrderedDict([('deg', 3), ('freq', 3), ('deg/freq', 1.0)])),\n",
       "             ('जस', OrderedDict([('deg', 5), ('freq', 5), ('deg/freq', 1.0)])),\n",
       "             ('लत', OrderedDict([('deg', 2), ('freq', 2), ('deg/freq', 1.0)])),\n",
       "             ('इ',\n",
       "              OrderedDict([('deg', 45), ('freq', 24), ('deg/freq', 1.875)])),\n",
       "             ('गराउँछ',\n",
       "              OrderedDict([('deg', 15),\n",
       "                           ('freq', 14),\n",
       "                           ('deg/freq', 1.0714285714285714)])),\n",
       "             ('की', OrderedDict([('deg', 2), ('freq', 2), ('deg/freq', 1.0)])),\n",
       "             ('बढ्न',\n",
       "              OrderedDict([('deg', 15),\n",
       "                           ('freq', 14),\n",
       "                           ('deg/freq', 1.0714285714285714)])),\n",
       "             ('आइ', OrderedDict([('deg', 4), ('freq', 4), ('deg/freq', 1.0)])),\n",
       "             ('रहे',\n",
       "              OrderedDict([('deg', 9), ('freq', 9), ('deg/freq', 1.0)])),\n",
       "             ('स्र्टफोन',\n",
       "              OrderedDict([('deg', 38),\n",
       "                           ('freq', 34),\n",
       "                           ('deg/freq', 1.1176470588235294)])),\n",
       "             ('बनिरहे',\n",
       "              OrderedDict([('deg', 4), ('freq', 4), ('deg/freq', 1.0)])),\n",
       "             ('धुम्रपान',\n",
       "              OrderedDict([('deg', 2), ('freq', 2), ('deg/freq', 1.0)])),\n",
       "             ('विषय',\n",
       "              OrderedDict([('deg', 4), ('freq', 4), ('deg/freq', 1.0)])),\n",
       "             ('चुरोट',\n",
       "              OrderedDict([('deg', 18), ('freq', 16), ('deg/freq', 1.125)])),\n",
       "             ('निस',\n",
       "              OrderedDict([('deg', 3), ('freq', 3), ('deg/freq', 1.0)])),\n",
       "             ('लक्ष्य',\n",
       "              OrderedDict([('deg', 3), ('freq', 3), ('deg/freq', 1.0)])),\n",
       "             ('तपाइँ',\n",
       "              OrderedDict([('deg', 2), ('freq', 2), ('deg/freq', 1.0)])),\n",
       "             ('सिगार',\n",
       "              OrderedDict([('deg', 15),\n",
       "                           ('freq', 14),\n",
       "                           ('deg/freq', 1.0714285714285714)])),\n",
       "             ('तय', OrderedDict([('deg', 3), ('freq', 3), ('deg/freq', 1.0)])),\n",
       "             ('उपयोग',\n",
       "              OrderedDict([('deg', 6), ('freq', 5), ('deg/freq', 1.2)])),\n",
       "             ('आउन',\n",
       "              OrderedDict([('deg', 4), ('freq', 4), ('deg/freq', 1.0)])),\n",
       "             ('छोडाउन',\n",
       "              OrderedDict([('deg', 2), ('freq', 2), ('deg/freq', 1.0)])),\n",
       "             ('थि', OrderedDict([('deg', 3), ('freq', 3), ('deg/freq', 1.0)])),\n",
       "             ('व्यापार',\n",
       "              OrderedDict([('deg', 1), ('freq', 1), ('deg/freq', 1.0)])),\n",
       "             ('गर्दछ',\n",
       "              OrderedDict([('deg', 15),\n",
       "                           ('freq', 14),\n",
       "                           ('deg/freq', 1.0714285714285714)])),\n",
       "             ('सहयोगी',\n",
       "              OrderedDict([('deg', 1), ('freq', 1), ('deg/freq', 1.0)])),\n",
       "             ('छिटै', OrderedDict([('deg', 0), ('freq', 0), ('deg/freq', 0)])),\n",
       "             ('प्लास्टिक',\n",
       "              OrderedDict([('deg', 2), ('freq', 2), ('deg/freq', 1.0)])),\n",
       "             ('कम्पनी',\n",
       "              OrderedDict([('deg', 25),\n",
       "                           ('freq', 22),\n",
       "                           ('deg/freq', 1.1363636363636365)])),\n",
       "             ('ग्याजेट',\n",
       "              OrderedDict([('deg', 1), ('freq', 1), ('deg/freq', 1.0)])),\n",
       "             ('निक',\n",
       "              OrderedDict([('deg', 7), ('freq', 7), ('deg/freq', 1.0)])),\n",
       "             ('दिन्छ',\n",
       "              OrderedDict([('deg', 4), ('freq', 4), ('deg/freq', 1.0)])),\n",
       "             ('ब्याट्री',\n",
       "              OrderedDict([('deg', 16),\n",
       "                           ('freq', 9),\n",
       "                           ('deg/freq', 1.7777777777777777)])),\n",
       "             ('पिउन',\n",
       "              OrderedDict([('deg', 2), ('freq', 2), ('deg/freq', 1.0)])),\n",
       "             ('प्वाल',\n",
       "              OrderedDict([('deg', 0), ('freq', 0), ('deg/freq', 0)])),\n",
       "             ('स्वाद',\n",
       "              OrderedDict([('deg', 4), ('freq', 4), ('deg/freq', 1.0)])),\n",
       "             ('त्र', OrderedDict([('deg', 0), ('freq', 0), ('deg/freq', 0)])),\n",
       "             ('समयै',\n",
       "              OrderedDict([('deg', 4), ('freq', 4), ('deg/freq', 1.0)])),\n",
       "             ('वास्तव',\n",
       "              OrderedDict([('deg', 1), ('freq', 1), ('deg/freq', 1.0)])),\n",
       "             ('फिचर्स',\n",
       "              OrderedDict([('deg', 0), ('freq', 0), ('deg/freq', 0)])),\n",
       "             ('यहीँ',\n",
       "              OrderedDict([('deg', 1), ('freq', 1), ('deg/freq', 1.0)])),\n",
       "             ('अनौठो',\n",
       "              OrderedDict([('deg', 7), ('freq', 7), ('deg/freq', 1.0)])),\n",
       "             ('सक्नुहुन्छ',\n",
       "              OrderedDict([('deg', 1), ('freq', 1), ('deg/freq', 1.0)])),\n",
       "             ('महंगो',\n",
       "              OrderedDict([('deg', 4), ('freq', 4), ('deg/freq', 1.0)])),\n",
       "             ('रिपोर्ट',\n",
       "              OrderedDict([('deg', 2), ('freq', 2), ('deg/freq', 1.0)])),\n",
       "             ('जुपिटर',\n",
       "              OrderedDict([('deg', 4), ('freq', 4), ('deg/freq', 1.0)])),\n",
       "             ('सकिन्छ',\n",
       "              OrderedDict([('deg', 3), ('freq', 3), ('deg/freq', 1.0)])),\n",
       "             ('वासना',\n",
       "              OrderedDict([('deg', 1), ('freq', 1), ('deg/freq', 1.0)])),\n",
       "             ('फ्लासयुक्त',\n",
       "              OrderedDict([('deg', 3), ('freq', 3), ('deg/freq', 1.0)])),\n",
       "             ('मूल्य',\n",
       "              OrderedDict([('deg', 3), ('freq', 3), ('deg/freq', 1.0)])),\n",
       "             ('चलिरहे',\n",
       "              OrderedDict([('deg', 4), ('freq', 4), ('deg/freq', 1.0)])),\n",
       "             ('अमेरिकी',\n",
       "              OrderedDict([('deg', 9), ('freq', 8), ('deg/freq', 1.125)])),\n",
       "             ('क्रम',\n",
       "              OrderedDict([('deg', 4), ('freq', 4), ('deg/freq', 1.0)])),\n",
       "             ('चार्ज',\n",
       "              OrderedDict([('deg', 8),\n",
       "                           ('freq', 6),\n",
       "                           ('deg/freq', 1.3333333333333333)])),\n",
       "             ('बढि',\n",
       "              OrderedDict([('deg', 15),\n",
       "                           ('freq', 14),\n",
       "                           ('deg/freq', 1.0714285714285714)])),\n",
       "             ('बजार',\n",
       "              OrderedDict([('deg', 14),\n",
       "                           ('freq', 13),\n",
       "                           ('deg/freq', 1.0769230769230769)])),\n",
       "             ('लिन',\n",
       "              OrderedDict([('deg', 4), ('freq', 4), ('deg/freq', 1.0)])),\n",
       "             ('ल्याए',\n",
       "              OrderedDict([('deg', 8),\n",
       "                           ('freq', 7),\n",
       "                           ('deg/freq', 1.1428571428571428)])),\n",
       "             ('त्रै',\n",
       "              OrderedDict([('deg', 3), ('freq', 3), ('deg/freq', 1.0)])),\n",
       "             ('जी',\n",
       "              OrderedDict([('deg', 7),\n",
       "                           ('freq', 6),\n",
       "                           ('deg/freq', 1.1666666666666667)])),\n",
       "             ('झोल',\n",
       "              OrderedDict([('deg', 1), ('freq', 1), ('deg/freq', 1.0)])),\n",
       "             ('मेलो',\n",
       "              OrderedDict([('deg', 1), ('freq', 1), ('deg/freq', 1.0)])),\n",
       "             ('धुमपान',\n",
       "              OrderedDict([('deg', 2), ('freq', 2), ('deg/freq', 1.0)])),\n",
       "             ('फोर',\n",
       "              OrderedDict([('deg', 4), ('freq', 4), ('deg/freq', 1.0)])),\n",
       "             ('फोन',\n",
       "              OrderedDict([('deg', 5), ('freq', 5), ('deg/freq', 1.0)])),\n",
       "             ('गरिरहे',\n",
       "              OrderedDict([('deg', 3), ('freq', 3), ('deg/freq', 1.0)])),\n",
       "             ('सकिनेछ',\n",
       "              OrderedDict([('deg', 4), ('freq', 4), ('deg/freq', 1.0)])),\n",
       "             ('त्याग्ने',\n",
       "              OrderedDict([('deg', 2), ('freq', 2), ('deg/freq', 1.0)])),\n",
       "             ('दाबी',\n",
       "              OrderedDict([('deg', 1), ('freq', 1), ('deg/freq', 1.0)])),\n",
       "             ('एप',\n",
       "              OrderedDict([('deg', 21),\n",
       "                           ('freq', 19),\n",
       "                           ('deg/freq', 1.105263157894737)])),\n",
       "             ('थ्री',\n",
       "              OrderedDict([('deg', 7), ('freq', 7), ('deg/freq', 1.0)])),\n",
       "             ('कफी',\n",
       "              OrderedDict([('deg', 1), ('freq', 1), ('deg/freq', 1.0)])),\n",
       "             ('भैसक्यो',\n",
       "              OrderedDict([('deg', 2), ('freq', 2), ('deg/freq', 1.0)])),\n",
       "             ('दुनिया',\n",
       "              OrderedDict([('deg', 4), ('freq', 4), ('deg/freq', 1.0)])),\n",
       "             ('अत्याधुनिक',\n",
       "              OrderedDict([('deg', 4), ('freq', 4), ('deg/freq', 1.0)])),\n",
       "             ('हार्डवेयर',\n",
       "              OrderedDict([('deg', 3), ('freq', 3), ('deg/freq', 1.0)])),\n",
       "             ('क्षमता',\n",
       "              OrderedDict([('deg', 0), ('freq', 0), ('deg/freq', 0)])),\n",
       "             ('कभर',\n",
       "              OrderedDict([('deg', 2), ('freq', 2), ('deg/freq', 1.0)])),\n",
       "             ('जानरी',\n",
       "              OrderedDict([('deg', 4), ('freq', 4), ('deg/freq', 1.0)])),\n",
       "             ('ोतर्फ',\n",
       "              OrderedDict([('deg', 2), ('freq', 2), ('deg/freq', 1.0)])),\n",
       "             ('रुप',\n",
       "              OrderedDict([('deg', 3), ('freq', 3), ('deg/freq', 1.0)])),\n",
       "             ('सकिँदा',\n",
       "              OrderedDict([('deg', 6), ('freq', 5), ('deg/freq', 1.2)])),\n",
       "             ('सिगरेटयुक्त',\n",
       "              OrderedDict([('deg', 3), ('freq', 3), ('deg/freq', 1.0)]))])"
      ]
     },
     "execution_count": 391,
     "metadata": {},
     "output_type": "execute_result"
    }
   ],
   "source": [
    "word_scores"
   ]
  },
  {
   "cell_type": "code",
   "execution_count": 307,
   "metadata": {},
   "outputs": [],
   "source": [
    "def checkMe(x):\n",
    "    try:\n",
    "        if isinstance(float(x), float):\n",
    "            return True\n",
    "    except:\n",
    "        return False\n"
   ]
  },
  {
   "cell_type": "code",
   "execution_count": 385,
   "metadata": {},
   "outputs": [],
   "source": [
    "def findCandidates(text):\n",
    "    clusters=[]\n",
    "    word1=[]\n",
    "    for word in word_tokenize(text):\n",
    "        if (word in stopwords) or checkMe(word):\n",
    "            clusters.append(word1)\n",
    "            word1 =[]\n",
    "            continue\n",
    "        else:\n",
    "            word1.append(word)\n",
    "    return [' '.join(a).replace('।','') for a in clusters if len(a)>1]        "
   ]
  },
  {
   "cell_type": "code",
   "execution_count": 386,
   "metadata": {},
   "outputs": [],
   "source": [
    "df['kW-candidates'] = df['news'].map(findCandidates)"
   ]
  },
  {
   "cell_type": "code",
   "execution_count": 392,
   "metadata": {},
   "outputs": [],
   "source": [
    "# find word co-occurrence graph on candidate keywords "
   ]
  },
  {
   "cell_type": "code",
   "execution_count": 393,
   "metadata": {},
   "outputs": [
    {
     "data": {
      "text/plain": [
       "['समयै स्र्टफोन दुनिया अत्याधुनिक बनिरहे',\n",
       " 'स्र्टफोन बजार आउन क्रम चलिरहे',\n",
       " ' यहीँ मेलो',\n",
       " 'अमेरिकी कम्पनी निक अनौठो खाल स्र्टफोन बजार ल्याए',\n",
       " ' अमेरिकी कम्पनी वेपरकेड',\n",
       " 'स्र्टफोन ल्याए',\n",
       " 'जस तपाइँ फोन',\n",
       " 'की चुरोट पिउन',\n",
       " 'सक्नुहुन्छ  वास्तव',\n",
       " 'ग्याजेट स्र्टफोन',\n",
       " 'इ सिगरेट ठिहा रुप',\n",
       " ' धुम्रपान लत छोडाउन',\n",
       " 'स्र्टफोन सहयोगी',\n",
       " 'दाबी कम्पनी',\n",
       " ' दी भर्ज रिपोर्ट',\n",
       " 'जुपिटर आइ ओ थ्री नाम',\n",
       " 'स्र्टफोन विश्व इ सिगरेटयुक्त',\n",
       " 'थ्री जी स्र्टफोन मूल्य',\n",
       " 'डलर तोकिए',\n",
       " 'अपरेटिंग सिस्टम रहे',\n",
       " 'फोन हार्डवेयर फ्लासयुक्त क्यामरा',\n",
       " 'ब्याट्री रहे',\n",
       " 'ब्याट्री स्र्टफोन',\n",
       " 'अर् इ सिगरेट',\n",
       " 'ब्याट्री चार्ज सकिँदा अर् ब्याट्री उपयोग ल्याउन',\n",
       " 'सकिन्छ  स्र्टफोन सबैभन्दा थि',\n",
       " 'प्लास्टिक कभर रहे',\n",
       " 'जस तलपटि्ट',\n",
       " 'इ सिगरेट स्वाद लिन सकिनेछ ',\n",
       " 'स्र्टफोन इ सिगरेट',\n",
       " 'त्रै वेपरकेड एप रहे',\n",
       " ' जस ब्याट्री चार्ज',\n",
       " 'इ चुरोट',\n",
       " 'झोल बाँकी',\n",
       " 'वासना रहे',\n",
       " 'प्रयोग भैसक्यो भन्न',\n",
       " 'विषय जानरी दिन्छ  स्र्टफोन निर्ता',\n",
       " 'एप निस लक्ष्य तय',\n",
       " 'धुमपान त्याग्ने ोतर्फ',\n",
       " 'बढ्न प्रेरित गर्दछ  इ चुरोट बढि सर् लिए एप अलर्ट गराउँछ वेपरकेड कम्पनी इ सिगरेट सिगार',\n",
       " 'कफी व्यापार',\n",
       " 'डलर महंगो फोर जी स्र्टफोन',\n",
       " 'बजार ल्याउन तयार गरिरहे']"
      ]
     },
     "execution_count": 393,
     "metadata": {},
     "output_type": "execute_result"
    }
   ],
   "source": [
    "df['kW-candidates'][2]"
   ]
  },
  {
   "cell_type": "code",
   "execution_count": 394,
   "metadata": {},
   "outputs": [],
   "source": [
    "scoredCandidates = []\n",
    "for sent in df['kW-candidates'][2]:\n",
    "    sumis=0\n",
    "    for word in word_tokenize(sent):\n",
    "        sumis += word_scores[word]['deg/freq']\n",
    "    scoredCandidates.append((sent,sumis/len(word_tokenize(sent))))"
   ]
  },
  {
   "cell_type": "code",
   "execution_count": 395,
   "metadata": {},
   "outputs": [
    {
     "data": {
      "text/plain": [
       "[('इ चुरोट', 1.5),\n",
       " ('ब्याट्री स्र्टफोन', 1.4477124183006536),\n",
       " ('अर् इ सिगरेट', 1.4186507936507937),\n",
       " ('स्र्टफोन इ सिगरेट', 1.410247432306256),\n",
       " ('ब्याट्री रहे', 1.3888888888888888),\n",
       " (' जस ब्याट्री चार्ज', 1.3703703703703702),\n",
       " ('ब्याट्री चार्ज सकिँदा अर् ब्याट्री उपयोग ल्याउन', 1.365249433106576),\n",
       " ('इ सिगरेट ठिहा रुप', 1.2782738095238095),\n",
       " ('स्र्टफोन विश्व इ सिगरेटयुक्त', 1.2481617647058822),\n",
       " ('इ सिगरेट स्वाद लिन सकिनेछ ', 1.2226190476190477),\n",
       " ('बढ्न प्रेरित गर्दछ  इ चुरोट बढि सर् लिए एप अलर्ट गराउँछ वेपरकेड कम्पनी इ सिगरेट सिगार',\n",
       "  1.198378110215378),\n",
       " (' अमेरिकी कम्पनी वेपरकेड', 1.145944741532977),\n",
       " ('स्र्टफोन ल्याए', 1.1302521008403361),\n",
       " ('अमेरिकी कम्पनी निक अनौठो खाल स्र्टफोन बजार ल्याए', 1.074848864370923),\n",
       " ('थ्री जी स्र्टफोन मूल्य', 1.0710784313725492),\n",
       " ('त्रै वेपरकेड एप रहे', 1.0704334365325079),\n",
       " ('दाबी कम्पनी', 1.0681818181818183),\n",
       " ('स्र्टफोन सहयोगी', 1.0588235294117647),\n",
       " ('ग्याजेट स्र्टफोन', 1.0588235294117647),\n",
       " ('डलर महंगो फोर जी स्र्टफोन', 1.0568627450980395),\n",
       " ('बजार ल्याउन तयार गरिरहे', 1.0504807692307692),\n",
       " ('की चुरोट पिउन', 1.0416666666666667),\n",
       " ('स्र्टफोन बजार आउन क्रम चलिरहे', 1.0389140271493214),\n",
       " ('सकिन्छ  स्र्टफोन सबैभन्दा थि', 1.0294117647058822),\n",
       " ('एप निस लक्ष्य तय', 1.0263157894736843),\n",
       " ('विषय जानरी दिन्छ  स्र्टफोन निर्ता', 1.0235294117647058),\n",
       " ('समयै स्र्टफोन दुनिया अत्याधुनिक बनिरहे', 1.0235294117647058),\n",
       " ('झोल बाँकी', 1.0),\n",
       " (' यहीँ मेलो', 1.0),\n",
       " ('प्रयोग भैसक्यो भन्न', 1.0),\n",
       " ('कफी व्यापार', 1.0),\n",
       " ('वासना रहे', 1.0),\n",
       " ('डलर तोकिए', 1.0),\n",
       " ('प्लास्टिक कभर रहे', 1.0),\n",
       " ('जुपिटर आइ ओ थ्री नाम', 1.0),\n",
       " ('जस तपाइँ फोन', 1.0),\n",
       " ('धुमपान त्याग्ने ोतर्फ', 1.0),\n",
       " (' धुम्रपान लत छोडाउन', 1.0),\n",
       " ('सक्नुहुन्छ  वास्तव', 1.0),\n",
       " ('अपरेटिंग सिस्टम रहे', 1.0),\n",
       " ('फोन हार्डवेयर फ्लासयुक्त क्यामरा', 1.0),\n",
       " ('जस तलपटि्ट', 1.0),\n",
       " (' दी भर्ज रिपोर्ट', 1.0)]"
      ]
     },
     "execution_count": 395,
     "metadata": {},
     "output_type": "execute_result"
    }
   ],
   "source": [
    "sorted(list(set(scoredCandidates)), key = lambda x : x[1],reverse=True)"
   ]
  },
  {
   "cell_type": "code",
   "execution_count": null,
   "metadata": {},
   "outputs": [],
   "source": []
  },
  {
   "cell_type": "code",
   "execution_count": 398,
   "metadata": {},
   "outputs": [],
   "source": [
    "stopwords = sorted(list( stopwords1 + ['हुँ' , 'गर्दछ','छिन्' , 'यता' , 'उन' ,'नआउन' , 'आउन' , 'यहीँ ','रहे' ,'नरहे' , 'जस' , 'सक्नुहुन्छ' ,'सक्नुहुन्न' ,'दिदैन' ,'गर्दैन' ,'नलिए', 'दिन्छ' , 'गर्दछ' , 'लिए' , 'हेर्न' , 'सकिने' ,'तपाइँ' ,'जुनसुकै']))"
   ]
  },
  {
   "cell_type": "code",
   "execution_count": null,
   "metadata": {},
   "outputs": [],
   "source": []
  },
  {
   "cell_type": "code",
   "execution_count": 399,
   "metadata": {},
   "outputs": [],
   "source": [
    "with open('listfile.txt', 'w') as filehandle:  \n",
    "    for listitem in stopwords:\n",
    "        filehandle.write('%s\\n' % listitem)"
   ]
  },
  {
   "cell_type": "code",
   "execution_count": null,
   "metadata": {},
   "outputs": [],
   "source": []
  },
  {
   "cell_type": "code",
   "execution_count": null,
   "metadata": {},
   "outputs": [],
   "source": []
  }
 ],
 "metadata": {
  "kernelspec": {
   "display_name": "Python 3",
   "language": "python",
   "name": "python3"
  },
  "language_info": {
   "codemirror_mode": {
    "name": "ipython",
    "version": 3
   },
   "file_extension": ".py",
   "mimetype": "text/x-python",
   "name": "python",
   "nbconvert_exporter": "python",
   "pygments_lexer": "ipython3",
   "version": "3.6.6"
  }
 },
 "nbformat": 4,
 "nbformat_minor": 2
}
