{
 "cells": [
  {
   "cell_type": "code",
   "execution_count": 1,
   "metadata": {},
   "outputs": [],
   "source": [
    "from sklearn.feature_extraction.text import CountVectorizer\n",
    "docs = ['this this this book',\n",
    "        'this cat good',\n",
    "        'cat good shit']"
   ]
  },
  {
   "cell_type": "code",
   "execution_count": 2,
   "metadata": {},
   "outputs": [],
   "source": [
    "count_model = CountVectorizer(ngram_range=(1,2))"
   ]
  },
  {
   "cell_type": "code",
   "execution_count": 3,
   "metadata": {},
   "outputs": [
    {
     "name": "stdout",
     "output_type": "stream",
     "text": [
      "[[ 1  0  0  0  0  0  3  1  0  2]\n",
      " [ 0  2  2  2  1  1  1  0  1  0]\n",
      " [ 0  2  2  2  1  1  1  0  1  0]\n",
      " [ 0  2  2  2  1  1  1  0  1  0]\n",
      " [ 0  1  1  1  1  1  0  0  0  0]\n",
      " [ 0  1  1  1  1  1  0  0  0  0]\n",
      " [ 3  1  1  1  0  0 10  3  1  6]\n",
      " [ 1  0  0  0  0  0  3  1  0  2]\n",
      " [ 0  1  1  1  0  0  1  0  1  0]\n",
      " [ 2  0  0  0  0  0  6  2  0  4]]\n"
     ]
    }
   ],
   "source": [
    "X = count_model.fit_transform(docs)\n",
    "Xc = (X.T * X)\n",
    "print(Xc.todense())"
   ]
  },
  {
   "cell_type": "code",
   "execution_count": null,
   "metadata": {},
   "outputs": [],
   "source": []
  }
 ],
 "metadata": {
  "kernelspec": {
   "display_name": "Python 3",
   "language": "python",
   "name": "python3"
  },
  "language_info": {
   "codemirror_mode": {
    "name": "ipython",
    "version": 3
   },
   "file_extension": ".py",
   "mimetype": "text/x-python",
   "name": "python",
   "nbconvert_exporter": "python",
   "pygments_lexer": "ipython3",
   "version": "3.6.6"
  }
 },
 "nbformat": 4,
 "nbformat_minor": 2
}
